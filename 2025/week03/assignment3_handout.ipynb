{
 "cells": [
  {
   "cell_type": "markdown",
   "id": "31200823",
   "metadata": {},
   "source": [
    "# Assignment 3 - Tree density and conditional distributions\n",
    "## EEB 463\n",
    "\n",
    "\n"
   ]
  },
  {
   "cell_type": "markdown",
   "id": "840f46ea",
   "metadata": {},
   "source": [
    "We will build a simple stochastic model of tree distributions, motivated from Hubbell 1979. In the process we will gain an intuition for independent random variables and conditional distributions.\n",
    "\n",
    "We will deal with the simplest case where there are two tree species and focus on just a small area of the forest. Let **T1** and **T2** be the densities of the adults of the two species. To begin with, suppose no one has sampled this area of the forest and so we don't know the exact densities. However, data from other parts of the forest suggest that the density of the each tree species is distributed approximately normally. However, it would not make sense for a density of trees to be negative. Further, the patch can only support densities upto K = 20. K is called the carrying capacity of the patch. To start, we will assume that each species can occupy only half of the carrying capacity. Therefore, each species is distributed according to a truncated normal distribution with values between 0 and 10.\n",
    "\n",
    "We will be using the normal distribution class and functions for calculating the mean and variance. You may use the version below by uncommenting it or replace it with your own."
   ]
  },
  {
   "cell_type": "code",
   "execution_count": null,
   "id": "4510145a",
   "metadata": {},
   "outputs": [],
   "source": [
    "import random as rnd\n",
    "import matplotlib.pyplot as plt \n",
    "import math\n",
    "\n",
    "\"\"\"\n",
    "class normal :\n",
    "    def __init__(self, mean = 0.0, sd = 1.0 ):\n",
    "        self.mean = mean\n",
    "        self.sd = sd \n",
    "        self.var = sd**2 \n",
    "    \n",
    "    def sample(self, n = 1):\n",
    "        out = [] \n",
    "        while len(out) < n: \n",
    "            x = rnd.random() \n",
    "            y = rnd.random() \n",
    "            xnorm = (((math.sqrt(-2 * math.log(x)) * math.cos(2. * math.pi * y))*self.sd)+self.mean)\n",
    "            ynorm = (((math.sqrt(-2 * math.log(x)) * math.sin(2. * math.pi * y))*self.sd)+self.mean)\n",
    "            out += [xnorm,ynorm]\n",
    "        out = out[0:n] #since sometimes it can be greater than n since we add two at a time. \n",
    "        return out\n",
    "    \n",
    "def calc_mean(values):\n",
    "    return sum(values)/len(values)\n",
    "\n",
    "def calc_variance(values): \n",
    "    mean = calc_mean(values) \n",
    "    var = 0 \n",
    "    for value in values: \n",
    "        var += (value-mean)**2\n",
    "    return var/len(values)\n",
    "\"\"\""
   ]
  },
  {
   "cell_type": "markdown",
   "id": "d90ac731",
   "metadata": {},
   "source": [
    "### Question 1."
   ]
  },
  {
   "cell_type": "markdown",
   "id": "8bfcf146",
   "metadata": {},
   "source": [
    "**Q1a:** Define a class `trunc_normal` to implement your own truncated normal distiribution. Create `__init__` as you did for the normal distribution class in your previous assignment. In addition to the mean and standard deviation of the underlying normal distribution, we will have two other parameters for trucated distribution, namely $a$ and $b$, which are the lower and upper bounds of the distribution **(0.5 pt)**. Add these two parameters as attributes in your `trunc_normal` class. We will base our truncated normal on our `normal` class. The idea will be to instantiate a standard normal distribution with a mean and standard deviation equal to that of the truncated normal and store it as an attribute of our `trunc_normal`. We can then draw upon this standard normal distribution when working with the truncated normal. Call the attribute `self.norm` and assign an instantiation of a standard normal distribution as the starting value in the `__init__` method. Make sure you instantiate this distribution to share the mean and standard deviation with the truncated normal.\n",
    "\n",
    "Next, add a method `sample` that generates a list of $n$ samples of the truncated normal distribution. In order to do this, you can use the normal class defined in the previous assignment to draw a normal sample and add it to the output list if it lies between the $a$ and $b$ **(0.5 pt)**."
   ]
  },
  {
   "cell_type": "code",
   "execution_count": null,
   "id": "571bc0c8",
   "metadata": {},
   "outputs": [],
   "source": [
    "## Complete the class definition below:\n",
    "\n",
    "\"\"\"\n",
    "class trunc_normal : \n",
    "    def __init__(self): \n",
    "\n",
    "        \n",
    "    def samples(self, n=1): \n",
    "\"\"\"  "
   ]
  },
  {
   "cell_type": "markdown",
   "id": "9958ab56",
   "metadata": {},
   "source": [
    "**Q1b:** Instantiate two truncated normal random distributions, **T1** and **T2**, with the limits being a=0 and b=10 and underlying normal distribution for **T1** has mean $\\mu=7$ and standard deviation $\\sigma = 2$ and for **T2** has the same mean but a higher standard deviation $\\sigma = 4$. Now draw 100000 (= $10^5$) values of each, store them in lists named `T1_samples` and `T2_samples` and 1) compute their mean and variance (you can use the `calc_mean` and `calc_variance` functions defined earlier in this assignment) and 2) plot overlapping histograms for the T1 and T2 samples **(0.5 pt)**"
   ]
  },
  {
   "cell_type": "code",
   "execution_count": null,
   "id": "5356880c",
   "metadata": {},
   "outputs": [],
   "source": [
    "# ANSWER QUESTION HERE"
   ]
  },
  {
   "cell_type": "markdown",
   "id": "164c2e89",
   "metadata": {},
   "source": [
    "**Q1b _(i)_** Is variance of the truncated normal distributions higher or lower than the variance of the underlying normal distribution? Why do you think that is the case? **(0.5 pt)**"
   ]
  },
  {
   "cell_type": "markdown",
   "id": "7a4c9b57",
   "metadata": {},
   "source": [
    "WRITE ANSWER HERE"
   ]
  },
  {
   "cell_type": "markdown",
   "id": "10737945",
   "metadata": {},
   "source": [
    "**Q1b _(ii)_** Both the distributions have the same mean for the underlying normal distribution, then why is the mean of the truncated distributions different? **(0.5 pt)**\n",
    "\n",
    "NOTE: Remember the variance of a distribution is the square of its standard deviation. "
   ]
  },
  {
   "cell_type": "markdown",
   "id": "90115a69",
   "metadata": {},
   "source": [
    "WRITE ANSWER HERE"
   ]
  },
  {
   "cell_type": "markdown",
   "id": "66c3bb42",
   "metadata": {},
   "source": [
    "**Q1b _(iii)_**\n",
    "\n",
    "Run the code below to import the module `seaborn`. We will use the function `seaborn.kdeplot`, which allows us to visualize the density for two dimensional data by creating a contour plot. This module provides access to some more advanced plotting functions that are simpler than using matplotlib. We will use it to visualize the joint density of `T1_samples` and `T2_samples`. Darker colours on the plot correspond to higher densities (i.e., more samples) and lighter colours correspond to lower densities (i.e., fewer samples). \n",
    "\n",
    "Describe the shape of the bivariate distribution that results from running the code below. \n",
    "\n",
    "1) Compare it to the histograms you plotted above. Is it circular or elliptical? What does that say about the relationship between `T1_samples` and `T2_samples`? **(0.25pt)**\n",
    "\n",
    "2) How close can we expect the forest patch to be to its carrying capacity (_K_), on average? **(0.25 pt)**"
   ]
  },
  {
   "cell_type": "code",
   "execution_count": null,
   "id": "506fa66d",
   "metadata": {},
   "outputs": [],
   "source": [
    "import seaborn as sns\n",
    "\n",
    "sns.kdeplot(x=T1_samples, y=T2_samples, cmap=\"Greys\", fill=True)\n",
    "plt.show()"
   ]
  },
  {
   "cell_type": "markdown",
   "id": "326ae2a4",
   "metadata": {},
   "source": [
    "ANSWER HERE"
   ]
  },
  {
   "cell_type": "markdown",
   "id": "2bf81345",
   "metadata": {},
   "source": [
    "### Question 2.\n",
    "\n",
    "The model might be a decent starting point to get some idea of how the densities of species 1 and 2 might vary, but we can make thinigs a little bit more realistic. In problem 1, we set things up so that the densities of species 1 and species 2 independent of one another. In reality, we might expect there to be some dependency between the two. Let's try to include this in our model. From Hubbell (1979), we learned that the tree species in a forest tend to be distributed in a way where several \"common\" species occur at high abundance, while other \"rare\" species occur at low abundance. \n",
    "\n",
    "Let's assume for now that the abundance of common species tends to be stable. Create a new `trunc_normal` distribution with a mean (of the underlying normal distribution) of 15 and standard deviation of 2 and assign it to the variable `T1` like we did before. Like before, we will set the lower boundary to be zero, but this time we will increase the upper boundary to be 20, which the same as our carrying capacity,  _K_. This means that species 1 may range from having zero individuals in the community to encompassing the entire community. Instantiate a seecond truncated normal distribution to represent the distribution of abundances for species 2. Set the standard deviation to 4 and the lower bound to zero. The other two parameters, the mean and upper boundary can be set to any arbitrary values to start. "
   ]
  },
  {
   "cell_type": "code",
   "execution_count": null,
   "id": "1026e113",
   "metadata": {},
   "outputs": [],
   "source": []
  },
  {
   "cell_type": "markdown",
   "id": "04042798",
   "metadata": {},
   "source": [
    "**Q2a.**  Draw 10,000 samples from the distribution of abundances for species 1. We will then loop over these samples and for each replicate, we will draw a corresponding value for species 2. Loop over the T1 samples, and each time, reset the T2 mean and upper bound (b) to reflect its dependence on T1. Since we know that _K_ = 20 and that the community cannot exceed this value in size, that means that T2 can only fill in whatever empty space is left by T1. As such, a sample for T2 can never exceed $K - T1$. We might also expect that, most of the time, the two tree species tend to fill all of the available space and so the mean of T2 is also equal to this upper bound. For each iteration of the loop over the T1 samples, update the mean and upper bound attributes for T2 to reflect this. After updating the attributes, draw a single sample from T2 and append it to a list. By the end, you should have two lists, `T1_samples` and `T2_samples`, each of which contains the abundance for each tree species for a given replicate. **(1 pt)**"
   ]
  },
  {
   "cell_type": "code",
   "execution_count": null,
   "id": "ac1dc5ca",
   "metadata": {},
   "outputs": [],
   "source": [
    "# WRITE ANSWER HERE"
   ]
  },
  {
   "cell_type": "markdown",
   "id": "9c0f6da6",
   "metadata": {},
   "source": [
    "**Q2b.** Like we did above, please use the `kdeplot` function to create a contour plot of the samples from both distributions. Comment on the shape of the joint distribution of T1 and T2, this time noting any differences from the case above, where the two are independent. Provide a reason for any differences observed. **(1 pt)**"
   ]
  },
  {
   "cell_type": "code",
   "execution_count": null,
   "id": "fc123a61",
   "metadata": {},
   "outputs": [],
   "source": [
    "sns.kdeplot(x=T1_samples, y=T2_samples, cmap=\"Greys\", fill=True)\n",
    "plt.show()"
   ]
  },
  {
   "cell_type": "markdown",
   "id": "d65b25ef",
   "metadata": {},
   "source": [
    "### Question 3.\n",
    "\n",
    "Let's now go one step further and model the abundance of seeds produced by the trees in the forest patch. We will consider three different scenarios to do this and try to estimate what the consequences would be. "
   ]
  },
  {
   "cell_type": "markdown",
   "id": "36385e2e",
   "metadata": {},
   "source": [
    "**Q3a.** SCENARIO 1: Tree specific resources and no tree specific herbivores. \n",
    "\n",
    "In this scenario each tree produces on average $r=1$ seed. There are no tree specific herbivores, so the survival of these seeds only depends on competition with other seeds of the same species in the region. Therefore, we get that the density of seeds of species 1 is distributed according to a truncated normal with the mean of the underlying normal distribution $r*T1*(1 - \\displaystyle \\frac{r*T1}{K})$ and variance $2$ and the limits being 0 and 10. Similarly, the seed density of species 2 is truncated normal but with mean $r*T2*(1 - \\displaystyle \\frac{r*T2}{K})$. We will want to keep the same dependency between _T1_ and _T2_ as we had in the previous step.\n",
    "\n",
    "To model seed densities under this scenario, sample 10000 pairs of values for T1 and T2. Remember that the parameters for _T2_ for any given replicate are dependent on the value of _T1_, so you will need to simulate both as you did in the previous question. For each pair of T1 and T2, sample 10 values of the corresponding seed distributions. Collect these values in two lists (one for each species). Therefore, you will have 10000x10 = 100000 sample values for each of the seed distributions. In the same plot,  plot a histogram witn 100 bins for the two distributions of seed densitites. **(2 pt)**\n",
    "\n",
    "HINT : One way to do it is to first draw 10000 samples from T1. Next, create a loop over `range(10000)`. In each iteration sample one value for T2 after updating its parameters according to the corresponding value of T1. So for example, if you are on iteration 10, base the parameters for T2 on `T1_samples[9]`. Use these T1 and T2 samples to initiate the seed distributions S1 and S2 based on the equation above and sample 10 values of each and store them in separate list. \n",
    "\n",
    "NOTE: Use alpha = 0.5 to control the transparency of the species two histograms in the same plot so you can compare the distributions."
   ]
  },
  {
   "cell_type": "code",
   "execution_count": null,
   "id": "22bf7e20",
   "metadata": {},
   "outputs": [],
   "source": [
    "# Use these parameter values:\n",
    "r = 1\n",
    "K = 20 \n",
    "n_rep = 10000\n",
    "\n",
    "## Fill in answer here"
   ]
  },
  {
   "cell_type": "markdown",
   "id": "f0a8530f",
   "metadata": {},
   "source": [
    "**Q3b.** SCENARIO 2: Common resources and tree specific herbivores. \n",
    "\n",
    "In this scenario, the two species share common resources so they compete with the seeds of the other species as well as there own. Further, in addition to surviving competition, the seeds also need to survive the herbivores. The herbivores are proportional to the density of the tree species they prey on. Therefore, we get that the density of seeds of species 1 is distributed according to a truncated normal with the mean of the underlying normal distribution $(r-p*T1)*T1*(1 - \\displaystyle \\frac{r*(T1+T2)}{K})$ and variance $2$ and the limits being 0 and 10. Species 2 is distributed similarly but with the mean of the underlying normal distribution being $(r-p*T2)*T2*(1 - \\displaystyle \\frac{r*(T1+T2)}{K})$\n",
    "\n",
    "Modify the simulation procedure from question 3a to accommodate the new predation term. **(1.5 pt)**"
   ]
  },
  {
   "cell_type": "code",
   "execution_count": null,
   "id": "cb747962",
   "metadata": {},
   "outputs": [],
   "source": [
    "# Use these parameter values:\n",
    "\n",
    "r = 1\n",
    "K = 20 \n",
    "p = 0.05\n",
    "a = 0\n",
    "b = 10\n",
    "n_rep = 10000\n",
    "\n",
    "\n",
    "## Fill in answer here"
   ]
  },
  {
   "cell_type": "markdown",
   "id": "4aa9b680",
   "metadata": {},
   "source": [
    "**Q3c** In which of the two scenarios, are the seed distibutions of the two species more similar and in which scenario do they differ? Explain the biological reason for the (1) similarity of seed distributions in one scenario and (2) difference of seed distributions in the other scenario **(1.5 pt)**"
   ]
  },
  {
   "cell_type": "markdown",
   "id": "b164e85e",
   "metadata": {},
   "source": [
    "**WRITE ANSWER HERE**"
   ]
  }
 ],
 "metadata": {
  "kernelspec": {
   "display_name": "Python 3 (ipykernel)",
   "language": "python",
   "name": "python3"
  },
  "language_info": {
   "codemirror_mode": {
    "name": "ipython",
    "version": 3
   },
   "file_extension": ".py",
   "mimetype": "text/x-python",
   "name": "python",
   "nbconvert_exporter": "python",
   "pygments_lexer": "ipython3",
   "version": "3.13.1"
  }
 },
 "nbformat": 4,
 "nbformat_minor": 5
}
