{
 "cells": [
  {
   "cell_type": "markdown",
   "id": "d2a63307",
   "metadata": {
    "slideshow": {
     "slide_type": "slide"
    }
   },
   "source": [
    "# week 1\n",
    "## probability pt. 1: frequency distributions and simulation \n",
    "\n",
    "dr. tomomi parins-fukuchi"
   ]
  },
  {
   "cell_type": "markdown",
   "id": "5388c0fc",
   "metadata": {
    "slideshow": {
     "slide_type": "slide"
    }
   },
   "source": [
    "### what is stochasticity?\n",
    "  \n",
    "  - behavior described by an underlying probability distribution\n",
    "  - characterized by random 'noise'\n",
    "  - need to think a bit about **probabilities**\n"
   ]
  },
  {
   "cell_type": "markdown",
   "id": "0a87d961",
   "metadata": {
    "slideshow": {
     "slide_type": "slide"
    }
   },
   "source": [
    "### there are debates about what probabilities actually are\n",
    "  \n",
    "  - one view: \"probabilities are relative frequency of an outcome in repeated trials\"\n",
    "  - another: \"probabilities reflect degree of belief\"\n",
    "  - in general, we'll just think of them as **reflecting uncertainty in a 'thing'**\n"
   ]
  },
  {
   "cell_type": "markdown",
   "id": "c1583d4d",
   "metadata": {
    "slideshow": {
     "slide_type": "slide"
    }
   },
   "source": [
    "### probability\n",
    "  \n",
    "  - number between zero and one\n",
    "  - an event with probability 0 is impossible\n",
    "  - an event with probability 1 is certain\n"
   ]
  },
  {
   "cell_type": "markdown",
   "id": "bd34841f",
   "metadata": {
    "slideshow": {
     "slide_type": "slide"
    }
   },
   "source": [
    "### random probability distributions\n",
    "\n",
    "  - describe the probabilities of different \"things\"  \n",
    "  - 'parametric' and 'nonparametric'"
   ]
  },
  {
   "cell_type": "markdown",
   "id": "2d2e796c",
   "metadata": {
    "slideshow": {
     "slide_type": "slide"
    }
   },
   "source": [
    "### **'parametric' distributions**\n",
    "\n",
    "  - e.g., normal, bernoulli, exponential \n",
    "  - mathematical function that reflects probabilities of 'things' given some parameters\n",
    "  - will get into this next week\n"
   ]
  },
  {
   "cell_type": "markdown",
   "id": "46fb699a",
   "metadata": {
    "slideshow": {
     "slide_type": "slide"
    }
   },
   "source": [
    "### **'nonparametric' (empirical) distributions**\n",
    "\n",
    "  - estimated from some data ('empirical' == 'observed')\n",
    "  - what proportion of the time does an event happen? \n",
    "  - data could be real or simulated\n"
   ]
  },
  {
   "cell_type": "code",
   "execution_count": null,
   "id": "0efb50af",
   "metadata": {
    "slideshow": {
     "slide_type": "slide"
    }
   },
   "outputs": [],
   "source": [
    "## a histogram is a simple frequency distribution\n",
    "\n",
    "import numpy as np\n",
    "import matplotlib.pyplot as plt\n",
    "\n",
    "ovi_goals =     [52,46,65,56,50,32,38,32,51,53,50,33,49,51,48,24,50,42,31]\n",
    "gretzky_goals = [51,55,92,71,87,73,52,62,40,54,40,41,31,16,38,11,15,8 ,25,23,9]\n",
    "\n",
    "print(sum(ovi_goals))\n",
    "print(sum(gretzky_goals))"
   ]
  },
  {
   "cell_type": "code",
   "execution_count": null,
   "id": "e0a7a7e0",
   "metadata": {
    "slideshow": {
     "slide_type": "slide"
    }
   },
   "outputs": [],
   "source": [
    "plt.hist(ovi_goals,label=\"ovechkin\",alpha=0.5)\n",
    "plt.hist(gretzky_goals,label=\"gretzky\",alpha=0.5)\n",
    "plt.legend()\n",
    "plt.xlabel(\"number of goals\")\n",
    "plt.ylabel(\"number of seasons\")\n",
    "plt.show()"
   ]
  },
  {
   "cell_type": "code",
   "execution_count": null,
   "id": "590faca8",
   "metadata": {
    "slideshow": {
     "slide_type": "slide"
    }
   },
   "outputs": [],
   "source": [
    "weights = [i / len(ovi_goals) for i in [1.0] * len(ovi_goals)]\n",
    "plt.hist(ovi_goals,label=\"ovechkin\",alpha=0.5,weights=weights)\n",
    "weights = [i / len(gretzky_goals) for i in [1.0] * len(gretzky_goals)]\n",
    "plt.hist(gretzky_goals,label=\"gretzky\",alpha=0.5,weights=weights)\n",
    "plt.xlabel(\"number of goals\")\n",
    "plt.ylabel(\"proportion of seasons\")\n",
    "plt.legend()\n",
    "\n",
    "plt.show()"
   ]
  },
  {
   "cell_type": "markdown",
   "id": "bd5c1216",
   "metadata": {
    "slideshow": {
     "slide_type": "slide"
    }
   },
   "source": [
    "### **simulation**\n",
    "  - stochastic simulation will be a big focus of this course\n",
    "      - what distribution of outcomes do we see if we simulate an event many times?\n",
    "  - this requires some kernel of randomness"
   ]
  },
  {
   "cell_type": "code",
   "execution_count": null,
   "id": "58e623b8",
   "metadata": {
    "slideshow": {
     "slide_type": "subslide"
    }
   },
   "outputs": [],
   "source": [
    "import random"
   ]
  },
  {
   "cell_type": "code",
   "execution_count": null,
   "id": "53de65fc",
   "metadata": {
    "slideshow": {
     "slide_type": "subslide"
    }
   },
   "outputs": [],
   "source": [
    "print(random.random())"
   ]
  },
  {
   "cell_type": "markdown",
   "id": "c20eb4a0",
   "metadata": {
    "slideshow": {
     "slide_type": "slide"
    }
   },
   "source": [
    "### **computation of stochasticity**\n",
    "\n",
    "  - general approach is to draw lots of little probabilities over and over\n",
    "  - these little probabilities sum to an instance of a distribution or stochastic process\n"
   ]
  },
  {
   "cell_type": "code",
   "execution_count": null,
   "id": "adc5b19d",
   "metadata": {
    "slideshow": {
     "slide_type": "subslide"
    }
   },
   "outputs": [],
   "source": [
    "r = [random.random() for _ in range(30)]\n",
    "#plt.hist(r)"
   ]
  },
  {
   "cell_type": "markdown",
   "id": "fb3b3e72",
   "metadata": {
    "slideshow": {
     "slide_type": "slide"
    }
   },
   "source": [
    "### **simulation**\n",
    "  - **bootstrap**: shuffle data a bunch of times and see how outcome varies\n",
    "  - simulates the act of collecting a dataset many times\n",
    "      - mimics the process of sampling a dataset many times in the real world \n",
    "      - we are \"replaying the tape\" or \"rerolling the dice\" \n",
    "    "
   ]
  },
  {
   "cell_type": "code",
   "execution_count": null,
   "id": "f9d0c319",
   "metadata": {
    "slideshow": {
     "slide_type": "slide"
    }
   },
   "outputs": [],
   "source": [
    "## resampling data can be done several ways\n",
    "\n",
    "## WITHOUT replacement\n",
    "\n",
    "len(ovi_goals)\n",
    "n_vals = len(ovi_goals)\n",
    "\n",
    "## let's say we want to subsample 3 values:\n",
    "\n",
    "subsamp = []\n",
    "for _ in range(3):\n",
    "    pick_i = int(random.random() * n_vals)\n",
    "    pick = ovi_goals[pick_i]\n",
    "    subsamp.append(pick)\n",
    "    \n",
    "print(subsamp)"
   ]
  },
  {
   "cell_type": "code",
   "execution_count": null,
   "id": "276e17c1",
   "metadata": {
    "slideshow": {
     "slide_type": "slide"
    }
   },
   "outputs": [],
   "source": [
    "## resampling data can be done several ways\n",
    "\n",
    "## with replacement\n",
    "\n",
    "n_vals = len(ovi_goals)\n",
    "\n",
    "## let's say we want to subsample 3 values:\n",
    "\n",
    "subsamp = []\n",
    "for _ in range(3):\n",
    "    pick_i = int(random.random() * n_vals)\n",
    "    pick = ovi_goals[pick_i]\n",
    "    subsamp.append(pick)\n",
    "    \n",
    "print(subsamp)"
   ]
  },
  {
   "cell_type": "markdown",
   "id": "11f37f4e",
   "metadata": {
    "slideshow": {
     "slide_type": "slide"
    }
   },
   "source": [
    "### simulation\n",
    "\n",
    "- we can use this technique to simulate random careers for both hockey players\n",
    "- what would the frequency distributions of number of goals scored for each player look like in an alternate universe?"
   ]
  },
  {
   "cell_type": "code",
   "execution_count": null,
   "id": "66117170",
   "metadata": {
    "slideshow": {
     "slide_type": "slide"
    }
   },
   "outputs": [],
   "source": [
    "## resampling data can be done several ways\n",
    "\n",
    "## with replacement\n",
    "\n",
    "n_vals = len(ovi_goals)\n",
    "\n",
    "# let's resample ovechkin's goals\n",
    "subsamp_ovi = []\n",
    "for _ in range(len(ovi_goals)):\n",
    "    pick_i = int(random.random() * n_vals)\n",
    "    pick = ovi_goals[pick_i]\n",
    "    subsamp_ovi.append(pick)\n",
    "\n",
    "n_vals = len(gretzky_goals)\n",
    "\n",
    "# let's resample gretzky's goals\n",
    "subsamp_gretzky = []\n",
    "for _ in range(len(gretzky_goals)):\n",
    "    pick_i = int(random.random() * n_vals)\n",
    "    pick = gretzky_goals[pick_i]\n",
    "    subsamp_gretzky.append(pick)"
   ]
  },
  {
   "cell_type": "code",
   "execution_count": null,
   "id": "2633f53c",
   "metadata": {
    "slideshow": {
     "slide_type": "slide"
    }
   },
   "outputs": [],
   "source": [
    "weights = [i / len(ovi_goals) for i in [1.0] * len(ovi_goals)]\n",
    "plt.hist(subsamp_ovi,label=\"ovechkin\",alpha=0.5,weights=weights)\n",
    "\n",
    "weights = [i / len(gretzky_goals) for i in [1.0] * len(gretzky_goals)]\n",
    "plt.hist(subsamp_gretzky,label=\"gretzky\",alpha=0.5,weights=weights)\n",
    "plt.xlabel(\"number of goals\")\n",
    "plt.ylabel(\"proportion of seasons\")\n",
    "plt.legend()\n",
    "\n",
    "plt.show()"
   ]
  },
  {
   "cell_type": "markdown",
   "id": "3b59f215",
   "metadata": {
    "slideshow": {
     "slide_type": "slide"
    }
   },
   "source": [
    "### statistical predictions\n",
    "\n",
    "- can use stochastic simulations to make predictions\n",
    "- ovechkin has fewer total goals over his career than gretzky, but has also played two fewer full seasons\n",
    "- how often does ovechkin surpass gretzky if playing the same number of seasons?"
   ]
  },
  {
   "cell_type": "code",
   "execution_count": null,
   "id": "d6b22d17",
   "metadata": {
    "slideshow": {
     "slide_type": "slide"
    }
   },
   "outputs": [],
   "source": [
    "sums_ovi = []\n",
    "\n",
    "for _ in range(1000):\n",
    "    subsamp = []\n",
    "    for _ in range(2):\n",
    "        pick_i = int(random.random() * len(ovi_goals))\n",
    "        pick   = ovi_goals[pick_i]\n",
    "        subsamp.append(pick)\n",
    "    sums_ovi.append(sum(ovi_goals + subsamp))"
   ]
  },
  {
   "cell_type": "code",
   "execution_count": null,
   "id": "b7569a88",
   "metadata": {
    "slideshow": {
     "slide_type": "slide"
    }
   },
   "outputs": [],
   "source": [
    "weights = [i / len(sums_ovi) for i in [1.0] * len(sums_ovi)]\n",
    "\n",
    "plt.hist(sums_ovi,label=\"ovechkin\",alpha=0.5,weights=weights)\n",
    "plt.vlines(x=sum(gretzky_goals),ymin=0,ymax=0.23)\n",
    "plt.xlabel(\"number of goals\")\n",
    "plt.ylabel(\"proportion of replicates\")\n",
    "plt.show()"
   ]
  },
  {
   "cell_type": "markdown",
   "id": "83f4a7a9",
   "metadata": {
    "slideshow": {
     "slide_type": "slide"
    }
   },
   "source": [
    "### statistical predictions\n",
    "\n",
    "- we are **simulating** two additional seasons for Ovechkin and seeing how often he outscores Gretzky\n",
    "    - we do this by drawing two seasons at random from Ovechkin's career many times\n",
    "    - we are essentially _replaying_ these two seasons for Ovechkin many times and seeing what happens\n",
    "- our **prediction** is that he should outscore him, given enough playing time"
   ]
  },
  {
   "cell_type": "markdown",
   "id": "b86ef037",
   "metadata": {
    "slideshow": {
     "slide_type": "slide"
    }
   },
   "source": [
    "### statistical predictions\n",
    "\n",
    "- we may wish to know how many goals we _expect_ Ovechkin to score\n",
    "- one measure of this is simply the **mean** over all the simulations"
   ]
  },
  {
   "cell_type": "code",
   "execution_count": null,
   "id": "7dde8d97",
   "metadata": {
    "slideshow": {
     "slide_type": "slide"
    }
   },
   "outputs": [],
   "source": [
    "def calc_mean(values):\n",
    "    tally = 0\n",
    "    for i in values:\n",
    "        tally += i\n",
    "    mean = tally / float(len(values))\n",
    "    return mean"
   ]
  },
  {
   "cell_type": "markdown",
   "id": "5fc9619c",
   "metadata": {
    "slideshow": {
     "slide_type": "slide"
    }
   },
   "source": [
    "### statistical predictions\n",
    "\n",
    "- we may wish to know how many goals we _expect_ Ovechkin to score\n",
    "- one measure of this is simply the **mean** over all the simulations"
   ]
  },
  {
   "cell_type": "code",
   "execution_count": null,
   "id": "e97b8b1d",
   "metadata": {
    "slideshow": {
     "slide_type": "subslide"
    }
   },
   "outputs": [],
   "source": [
    "print(\"ovi expected: \",calc_mean(sums_ovi))\n",
    "print(\"gretzky actual: \", sum(gretzky_goals))"
   ]
  },
  {
   "cell_type": "markdown",
   "id": "d80e77f1",
   "metadata": {
    "slideshow": {
     "slide_type": "slide"
    }
   },
   "source": [
    "### why does this work?\n",
    "\n",
    "- we are using randomness to see what range of values we might expect to encounter based on those we have seen\n",
    "- sampling randomly over ovechkin's career uses stochasticity to simulate additional seasons"
   ]
  },
  {
   "cell_type": "markdown",
   "id": "fdf74a87",
   "metadata": {
    "slideshow": {
     "slide_type": "slide"
    }
   },
   "source": [
    "### statistical predictions\n",
    "\n",
    "- what if we \"replay the tape\" of both Ovi and Gretzky's careers many times?\n",
    "- what is the resulting distribution of all of their goal tallies?"
   ]
  },
  {
   "cell_type": "code",
   "execution_count": null,
   "id": "698413b0",
   "metadata": {
    "slideshow": {
     "slide_type": "slide"
    }
   },
   "outputs": [],
   "source": [
    "# let's make a general function to resample a list many times and collect the sum of each resampled list\n",
    "\n",
    "def resample_sum(vals, n_rep): # resample with replacement\n",
    "    sums = []\n",
    "    for _ in range(1000):  # resample each list 1000 times and calculate the sum of goals for each\n",
    "        subsamp = []\n",
    "        for _ in range(n_rep):\n",
    "            pick_i = int(random.random() * len(vals))\n",
    "            pick = vals[pick_i]\n",
    "            subsamp.append(pick)\n",
    "        sums.append(sum(subsamp))\n",
    "    return sums"
   ]
  },
  {
   "cell_type": "code",
   "execution_count": null,
   "id": "03564492",
   "metadata": {
    "slideshow": {
     "slide_type": "slide"
    }
   },
   "outputs": [],
   "source": [
    "sums_ovi = resample_sum(ovi_goals,len(gretzky_goals))\n",
    "sums_gretzky = resample_sum(gretzky_goals, len(gretzky_goals))\n",
    "weights = [i / len(sums_ovi) for i in [1.0] * len(sums_ovi)]\n",
    "\n",
    "plt.hist(sums_gretzky,label=\"gretzky\",alpha=0.5,weights=weights)\n",
    "plt.hist(sums_ovi,label=\"ovechkin\",alpha=0.5,weights=weights)\n",
    "plt.xlabel(\"number of goals\")\n",
    "plt.ylabel(\"proportion of simulations\")\n",
    "plt.legend()\n",
    "plt.vlines(x=sum(gretzky_goals),ymin=0,ymax=0.3)\n",
    "plt.show()"
   ]
  }
 ],
 "metadata": {
  "celltoolbar": "Slideshow",
  "kernelspec": {
   "display_name": "Python 3 (ipykernel)",
   "language": "python",
   "name": "python3"
  },
  "language_info": {
   "codemirror_mode": {
    "name": "ipython",
    "version": 3
   },
   "file_extension": ".py",
   "mimetype": "text/x-python",
   "name": "python",
   "nbconvert_exporter": "python",
   "pygments_lexer": "ipython3",
   "version": "3.11.6"
  }
 },
 "nbformat": 4,
 "nbformat_minor": 5
}
