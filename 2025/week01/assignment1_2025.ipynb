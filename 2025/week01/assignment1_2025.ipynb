{
 "cells": [
  {
   "cell_type": "markdown",
   "id": "31200823",
   "metadata": {},
   "source": [
    "# Assignment 1 - Frequency and probability\n",
    "## EEB 463\n",
    "### Winter 2025\n",
    "\n"
   ]
  },
  {
   "cell_type": "markdown",
   "id": "840f46ea",
   "metadata": {},
   "source": [
    "This week, you will learn about how to program with (pseudo-) randomness to generate frequency distributions. \n",
    "\n",
    "To get started, we will need to import the `random` module in order to generate some stochasticity. `random` contains many useful functions for generating different sorts of random values and randomly subsampling data structures, but we will try to restrict our use to `random.random()`. This particular function will generate a pseudorandom floating point number between zero and 1. The reason for this is that most of the additional functions in Python's `random` module are simply \"wrappers\" for `random.random()`, which means that they use it to perform another operation (in a way that is usually pretty simple). Since one goal of this course is to learn how to think like a programmer, we will simply use `random.random()` as-is to do this work ourselves."
   ]
  },
  {
   "cell_type": "code",
   "execution_count": null,
   "id": "571bc0c8",
   "metadata": {},
   "outputs": [],
   "source": [
    "import random\n",
    "import matplotlib.pyplot as plt "
   ]
  },
  {
   "cell_type": "markdown",
   "id": "9958ab56",
   "metadata": {},
   "source": [
    "**Q1:** Imagine you are an indecisive and time-limited person like Tomo. Taking the dinner ideas contained within the list `dinner_options` defined below, use `random.random()` to draw a random option."
   ]
  },
  {
   "cell_type": "code",
   "execution_count": null,
   "id": "5356880c",
   "metadata": {},
   "outputs": [],
   "source": [
    "dinner_options = [\"cheeseburger\", \"stir fry\", \"sushi\", \"curry\", \"soup\", \"tuna casserole\", \"spaghetti and meatballs\", \"omelette and salad\", \"roast chicken\", \"tacos\"]\n",
    "\n",
    "\n",
    "## COMPLETE TASK HERE\n"
   ]
  },
  {
   "cell_type": "markdown",
   "id": "d65b25ef",
   "metadata": {},
   "source": [
    "**Q2:** Suppose that you want to use this tool to plan out meals for the four evenings spanning Monday-Thursday. Further suppose have a finicky palate and cannot tolerate eating the same meal two nights in a week. Create a function that samples four meals that you can eat each work week that guarantees you won't draw the same meal twice.\n",
    "\n",
    "**HINT:** There are several ways you could solve this problem. For one solution, you might remove items from `dinner_options` whenever they are chosen. This would allow you to choose from a reduced set of options for the next evening. If you do this, you will need to remember to redefine `dinner_options` defined in Q1 after using your function to restore the full list of dinner options. Alternatively, there are approaches that do not require that you alter the list of dinner options."
   ]
  },
  {
   "cell_type": "code",
   "execution_count": null,
   "id": "f6c541c7",
   "metadata": {},
   "outputs": [],
   "source": [
    "## Complete the function below\n",
    "def weeknight_meal_picker(dinner_options):\n",
    "    return \n",
    "\n",
    "#dinner_options = [\"cheeseburger\", \"stir fry\", \"sushi\", \"curry\", \"soup\", \"tuna casserole\", \"spaghetti and meatballs\", \"omelette and salad\", \"roast chicken\", \"tacos\"]\n"
   ]
  },
  {
   "cell_type": "markdown",
   "id": "ffa9092a",
   "metadata": {},
   "source": [
    "**Q3:** Let's say you really want to make sure the tool you have created isn't biasing choices in favor of any particular option. Perform the following steps to verify that you will not be stuck eating any one meal more often than any other."
   ]
  },
  {
   "cell_type": "markdown",
   "id": "c62725ff",
   "metadata": {},
   "source": [
    "Run the code block below to create a dictionary with the various dinner options as keys and initial values of 0. We will use this to count how many times we sample each meal option over many simulated replicates. This dictionary will be assigned to the variable `dinner_options_dict`.\n"
   ]
  },
  {
   "cell_type": "code",
   "execution_count": 2,
   "id": "fc442841",
   "metadata": {},
   "outputs": [],
   "source": [
    "dinner_options_dict = {\"cheeseburger\" : 0, \"stir fry\" : 0, \"sushi\" : 0, \"curry\" : 0, \"soup\" : 0, \"tuna casserole\" : 0, \"spaghetti and meatballs\" : 0, \"omelette and salad\" : 0, \"roast chicken\" : 0, \"tacos\" : 0}"
   ]
  },
  {
   "cell_type": "markdown",
   "id": "4c6ddfe9",
   "metadata": {},
   "source": [
    "This object, like all Python dictionaries, is comprised of \"keys\" and \"values\". We can use each key to access its associated value. For example, if we want to see how many times we have sampled cheeseburger so far, we can type: \n",
    "\n",
    "`dinner_options_dict[\"cheeseburger\"]`\n",
    "\n",
    "This will return `0` right now, because we haven't updated it. Let's imagine that we sample cheeseburger one time. We can update our count using the syntax:\n",
    "\n",
    "`dinner_options_dict[\"cheeseburger\"] += 1`\n",
    "\n",
    "If you are new to Python dictionaries, you might wish to create a new code cell below and play around with this a bit to get a feel for it. Just make sure you go back to the code cell and rerun the block where we first created the dictionary so that all the values are reset at zero (this will be important for the next questions). You may also wish to consult the following page: https://docs.python.org/3/tutorial/datastructures.html#dictionaries to read up on the dictionary data structure a bit more."
   ]
  },
  {
   "cell_type": "markdown",
   "id": "78ddb671",
   "metadata": {},
   "source": [
    "**Q3a.** Your goal will be to repeatedly sample 4-night workweek meal plans. Within this loop run the function created in Q2. Create a for loop that loops over `range(n)`. For each iteration, use your function to sample a weekly meal plan. Every time you draw a new meal plan, increase the tally of the value associated with each meal in the plan that you stored in `dinner_options_dict`.The final goal will be to have a dictionary where each key is a meal in our list of options and each value is the number of times it was sampled using our scheme."
   ]
  },
  {
   "cell_type": "code",
   "execution_count": null,
   "id": "2d0d2ab6",
   "metadata": {},
   "outputs": [],
   "source": [
    "#n=10000\n",
    "#for rep in range(n): \n"
   ]
  },
  {
   "cell_type": "markdown",
   "id": "efd4279d",
   "metadata": {},
   "source": [
    "**Q3b.** Run the code you wrote in 3a, setting the number of iterations to some fairly large number (e.g., 1000). This means you will sample 10000 meal plans. Create a barplot where each bar on the x-axis is a meal in the original list and the y-axis represents the number of times we sampled it in 3a. Is our sampler biased or uniform? If it is doing what we expect, we should sample each choice around the same number of times.\n"
   ]
  },
  {
   "cell_type": "code",
   "execution_count": null,
   "id": "441e736c",
   "metadata": {},
   "outputs": [],
   "source": [
    "# WRITE ANSWER HERE"
   ]
  }
 ],
 "metadata": {
  "kernelspec": {
   "display_name": "Python 3 (ipykernel)",
   "language": "python",
   "name": "python3"
  },
  "language_info": {
   "codemirror_mode": {
    "name": "ipython",
    "version": 3
   },
   "file_extension": ".py",
   "mimetype": "text/x-python",
   "name": "python",
   "nbconvert_exporter": "python",
   "pygments_lexer": "ipython3",
   "version": "3.11.6"
  }
 },
 "nbformat": 4,
 "nbformat_minor": 5
}
