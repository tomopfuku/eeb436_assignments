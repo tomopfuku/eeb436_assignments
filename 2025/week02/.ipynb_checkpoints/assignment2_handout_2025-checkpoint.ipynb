{
 "cells": [
  {
   "cell_type": "markdown",
   "id": "31200823",
   "metadata": {},
   "source": [
    "# Assignment 2 - Frequencies and parametric distributions\n",
    "## EEB 463\n",
    "### Winter 2025\n",
    "\n",
    "\n"
   ]
  },
  {
   "cell_type": "markdown",
   "id": "840f46ea",
   "metadata": {},
   "source": [
    "This week, you will use the concepts and tools introduced in class to implement your own parametric distributions in Python. We will then use those tools to generate simulated data and understand the behavior of normal distributions."
   ]
  },
  {
   "cell_type": "markdown",
   "id": "4613fe96",
   "metadata": {},
   "source": [
    "**Q1a:** In this question, we will use simulation to explore the behavior of a classic exercise in probability theory. _How many people do you need to gather in a room to ensure that there is a 50% chance that any two of them share the same birthday?_ For the first part of the question, design a function that randomly samples birthdays from a population of _N_ individuals and checks whether 2 or more members of the group share a birthday and returns `True` if there is at least one shared birthday and `False` if not. Hint: Note that a birthday of an individual can be associated with a number between 1 and 365 (we will ignore leap years). "
   ]
  },
  {
   "cell_type": "code",
   "execution_count": null,
   "id": "10837432",
   "metadata": {},
   "outputs": [],
   "source": [
    "## COMPLETE THE FOLLOWING FUNCTION\n",
    "\n",
    "def sample_pop_bdays(N):\n",
    "    return "
   ]
  },
  {
   "cell_type": "markdown",
   "id": "b2aa2e4c",
   "metadata": {},
   "source": [
    "**Q1b:** Write another function that uses the function you composed in the previous question in a for loop to count the number of times that you observe a shared birthday over 10000 iterations. Each of the iterations in the loop is called a **replicate**. Use this number to calculate the proportion of times or _frequency_ with which you observe one or more shared birthdays in the population. "
   ]
  },
  {
   "cell_type": "code",
   "execution_count": null,
   "id": "30875974",
   "metadata": {},
   "outputs": [],
   "source": [
    "## COMPLETE THE FOLLOWING FUNCTION\n",
    "\n",
    "def shared_bday_frequency(N):\n",
    "    return "
   ]
  },
  {
   "cell_type": "markdown",
   "id": "a270110b",
   "metadata": {},
   "source": [
    "**Q1c:** Use the function you wrote in the previous question to estimate the frequency with which you observe a shared birthday across a range of population sizes, i.e. $N$) in order to find the number of people that are required to lead to a 50% expectation that any two members share a birthday. You might use a for loop to calculate this frequency over a range of population sizes, starting from a small number of people (say, around 5-10), and ending at some fairly large number. Store the results in a dictionary, with the keys being the size of the population and the values being the proportion of replicates in which two individuals share a birthday. "
   ]
  },
  {
   "cell_type": "code",
   "execution_count": null,
   "id": "ad89830f",
   "metadata": {},
   "outputs": [],
   "source": [
    "## ANSWER HERE"
   ]
  },
  {
   "cell_type": "markdown",
   "id": "db0cdbe2",
   "metadata": {},
   "source": [
    "**Q1d.** Create a graph showing how the odds of birthday sharing changes as you increase population size, with the x-axis representing population size and the y-axis representing birthday sharing frequency. Next, answer the question. **How many individuals are needed to generate a 50% chance that any two of them share a birthday?** How many are needed for there to be a 90% chance? Are these higher or lower than you expected? "
   ]
  },
  {
   "cell_type": "code",
   "execution_count": null,
   "id": "ee410e74",
   "metadata": {},
   "outputs": [],
   "source": [
    "## ANSWER HERE"
   ]
  },
  {
   "cell_type": "markdown",
   "id": "9958ab56",
   "metadata": {},
   "source": [
    "**Q2:**\n",
    "\n",
    "_a)_ Complete the class below to implement your own normal distribution. Start by creating an `__init__` method. Include properties for the normal parameter values mean and standard deviation. \n",
    "\n",
    "_b)_ Next, add a method to your normal class that outputs $n$ independent values drawn from a normal distribution. You can transform two random and independent uniform variables into two independent normal random variables, drawn from a normal distribution with mean and standard deviation matched to those specified when instantiating of the normal distribution object using the Box-Muller algorithm or its Polar variant we looked at in class. Repeat this until you have $n$ values. Call this method `sample`."
   ]
  },
  {
   "cell_type": "code",
   "execution_count": null,
   "id": "e8aa15a5",
   "metadata": {},
   "outputs": [],
   "source": [
    "import random\n",
    "import matplotlib.pyplot as plt \n",
    "import math"
   ]
  },
  {
   "cell_type": "code",
   "execution_count": null,
   "id": "5356880c",
   "metadata": {},
   "outputs": [],
   "source": [
    "\"\"\"\n",
    "class normal:\n",
    "    def __init__(self):\n",
    "\n",
    "    def sample(self, n = 1, method = \"polar\"):\n",
    "        \n",
    "        return norm\n",
    "\"\"\""
   ]
  },
  {
   "cell_type": "markdown",
   "id": "48fe9699",
   "metadata": {},
   "source": [
    "**Q3.** Instantiate two normal distributions, with two different means and two different standard deviations. Assign these to the variables `norm1` and `norm2`, respectively."
   ]
  },
  {
   "cell_type": "code",
   "execution_count": null,
   "id": "d553de64",
   "metadata": {},
   "outputs": [],
   "source": [
    "## ANSWER HERE"
   ]
  },
  {
   "cell_type": "markdown",
   "id": "bea780c0",
   "metadata": {},
   "source": [
    "**Q4.** Generate 1000 samples from each of these distributions. Store each collection of samples in its own list so that you have two lists, each containing 1000 samples from each of the two normal distributions. Next, sum the samples so that each random variable drawn from `norm1` is summed with a corresponding random variable drawn from `norm2` (you may want to just draw the value located at the same index in the corresponding list)."
   ]
  },
  {
   "cell_type": "code",
   "execution_count": null,
   "id": "19b221bb",
   "metadata": {},
   "outputs": [],
   "source": [
    "## ANSWER HERE"
   ]
  },
  {
   "cell_type": "markdown",
   "id": "b7b60721",
   "metadata": {},
   "source": [
    "**Q5.** Plot histograms of the values drawn from each normal distribution and the summed values, so that all three histograms are plotted on the same axes. To make things more readable, you might make all three histograms translucent by adding the argument `alpha=0.5` (or set to another preferred value) so that you can fully see the range of each histogram in the areas where they overlap."
   ]
  },
  {
   "cell_type": "code",
   "execution_count": null,
   "id": "bfa0ae32",
   "metadata": {},
   "outputs": [],
   "source": [
    "## ANSWER HERE"
   ]
  },
  {
   "cell_type": "markdown",
   "id": "9c8dd31f",
   "metadata": {},
   "source": [
    "**Q6.** Write your own function to calculate the mean of a list of floating point values. Use it to calculate the mean of the pooled samples from both distributions. Write an additional function to calculate the standard deviation. Calculate the mean and standard deviation for the samples from `norm1` and `norm2` separately and compare each of these to the mean and standard deviation of the summed distribution. Comment on the result. What is the distribution that results when you sum two normal distributions?"
   ]
  },
  {
   "cell_type": "code",
   "execution_count": null,
   "id": "d78426d1",
   "metadata": {},
   "outputs": [],
   "source": [
    "## ANSWER HERE\n",
    "\n",
    "## def calc_mean(values):\n",
    "##     return mean"
   ]
  }
 ],
 "metadata": {
  "kernelspec": {
   "display_name": "Python 3 (ipykernel)",
   "language": "python",
   "name": "python3"
  },
  "language_info": {
   "codemirror_mode": {
    "name": "ipython",
    "version": 3
   },
   "file_extension": ".py",
   "mimetype": "text/x-python",
   "name": "python",
   "nbconvert_exporter": "python",
   "pygments_lexer": "ipython3",
   "version": "3.13.1"
  }
 },
 "nbformat": 4,
 "nbformat_minor": 5
}
