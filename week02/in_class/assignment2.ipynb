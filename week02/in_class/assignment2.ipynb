{
 "cells": [
  {
   "cell_type": "markdown",
   "id": "31200823",
   "metadata": {},
   "source": [
    "# Assignment 2 - Frequency and probability\n",
    "## EEB 463\n",
    "\n",
    "\n"
   ]
  },
  {
   "cell_type": "markdown",
   "id": "840f46ea",
   "metadata": {},
   "source": [
    "This week, you will learn about how to program with (pseudo-) randomness to generate frequency distributions. \n",
    "\n",
    "To get started, we will need to import the `random` module in order to generate some stochasticity. `random` contains many useful functions for generating different sorts of random values and randomly subsampling data structures, but we will try to restrict our use to `random.random()`. This particular function will generate a pseudorandom floating point number between zero and 1. The reason for this is that most of the additional functions in Python's `random` module are simply \"wrappers\" for `random.random()`, which means that they use it to perform another operation (in a way that is usually pretty simple). Since one goal of this course is to learn how to think like a programmer, we will simply use `random.random()` as-is to do this work ourselves."
   ]
  },
  {
   "cell_type": "code",
   "execution_count": 2,
   "id": "571bc0c8",
   "metadata": {},
   "outputs": [],
   "source": [
    "import random\n",
    "import matplotlib.pyplot as plt "
   ]
  },
  {
   "cell_type": "markdown",
   "id": "9958ab56",
   "metadata": {},
   "source": [
    "**Q1:** Imagine you are an indecisive and time-limited person like Tomo. Taking the dinner ideas contained within the list `dinner_options` defined below, use `random.random()` to draw a random option."
   ]
  },
  {
   "cell_type": "code",
   "execution_count": 7,
   "id": "5356880c",
   "metadata": {},
   "outputs": [
    {
     "name": "stdout",
     "output_type": "stream",
     "text": [
      "cheeseburger\n"
     ]
    }
   ],
   "source": [
    "dinner_options = [\"cheeseburger\", \"stir fry\", \"sushi\", \"curry\", \"soup\", \"tuna casserole\", \"spaghetti and meatballs\", \"omelette and salad\", \"roast chicken\", \"tacos\"]\n",
    "n_options = len(dinner_options)\n",
    "rnd_num = random.random() \n",
    "choice_index = int(rnd_num*n_options)\n",
    "print(dinner_options[choice_index])\n",
    "\n",
    "\n",
    "## COMPLETE TASK HERE\n"
   ]
  },
  {
   "cell_type": "markdown",
   "id": "d65b25ef",
   "metadata": {},
   "source": [
    "**Q2:** Suppose that you want to use this tool to plan out meals for the four evenings spanning Monday-Thursday. Further suppose have a finicky palate and cannot tolerate eating the same meal two nights in a row. Create a function that samples four meals that you can eat each work week that guarantees you won't draw the same meal twice."
   ]
  },
  {
   "cell_type": "code",
   "execution_count": 6,
   "id": "f6c541c7",
   "metadata": {},
   "outputs": [
    {
     "name": "stdout",
     "output_type": "stream",
     "text": [
      "['cheeseburger', 'stir fry', 'sushi', 'curry', 'soup', 'tuna casserole', 'spaghetti and meatballs', 'omelette and salad', 'roast chicken', 'tacos']\n",
      "['cheeseburger', 'stir fry', 'soup', 'tuna casserole', 'omelette and salad', 'roast chicken']\n"
     ]
    }
   ],
   "source": [
    "## Complete the function below\n",
    "def weeknight_meal_picker(dinner_options):\n",
    "    options = dinner_options\n",
    "    choices = []\n",
    "    for day in range(4): \n",
    "        n_options = len(options)\n",
    "        rnd_num = random.random() \n",
    "        choice_index = int(rnd_num*n_options)\n",
    "        choice = dinner_options[choice_index]\n",
    "        choices.append(choice)   \n",
    "        options.remove(choice)\n",
    "    return choices \n",
    "\n",
    "#dinner_options = [\"cheeseburger\", \"stir fry\", \"sushi\", \"curry\", \"soup\", \"tuna casserole\", \"spaghetti and meatballs\", \"omelette and salad\", \"roast chicken\", \"tacos\"]\n",
    "print(dinner_options)\n",
    "weeknight_meal_picker(dinner_options)\n",
    "print(dinner_options)\n"
   ]
  },
  {
   "cell_type": "markdown",
   "id": "ffa9092a",
   "metadata": {},
   "source": [
    "**Q3:** Let's say you really want to make sure the tool you have created isn't biasing choices in favor of any particular option. Perform the following steps to verify that you will not be stuck eating any one meal more often than any other."
   ]
  },
  {
   "cell_type": "markdown",
   "id": "c62725ff",
   "metadata": {},
   "source": [
    "**Q3a.** Create a dictionary with the various dinner options as keys and initial values of 0. Call this variable `dinner_options_dict`.\n"
   ]
  },
  {
   "cell_type": "code",
   "execution_count": null,
   "id": "fc442841",
   "metadata": {},
   "outputs": [],
   "source": [
    "dinner_options = [\"cheeseburger\", \"stir fry\", \"sushi\", \"curry\", \"soup\", \"tuna casserole\", \"spaghetti and meatballs\", \"omelette and salad\", \"roast chicken\", \"tacos\"]\n",
    "dinner_options_dict = {option:0 for option in dinner_options}"
   ]
  },
  {
   "cell_type": "markdown",
   "id": "78ddb671",
   "metadata": {},
   "source": [
    "**Q3b.** Your goal will be to repeatedly sample 4-night workweek meal plans. Within this loop run the function created in Q2. Create a for loop that loops over `range(n)`. For each iteration, use your function to sample a weekly meal plan. Every time you draw a new meal plan, increase the tally of the value associated with each meal in the plan that you stored in `dinner_options_dict`.The final goal will be to have a dictionary where each key is a meal in our list of options and each value is the number of times it was sampled using our scheme."
   ]
  },
  {
   "cell_type": "code",
   "execution_count": null,
   "id": "2d0d2ab6",
   "metadata": {},
   "outputs": [],
   "source": [
    "n=10000\n",
    "for rep in range(n): \n",
    "    dinner_options = [\"cheeseburger\", \"stir fry\", \"sushi\", \"curry\", \"soup\", \"tuna casserole\", \"spaghetti and meatballs\", \"omelette and salad\", \"roast chicken\", \"tacos\"]\n",
    "    weeknight_choices = weeknight_meal_picker(dinner_options)\n",
    "    for choice in weeknight_choices:\n",
    "        dinner_options_dict[choice] += 1 "
   ]
  },
  {
   "cell_type": "markdown",
   "id": "efd4279d",
   "metadata": {},
   "source": [
    "**Q3c.** Run the code you wrote in 3b, setting the number of iterations to some fairly large number (e.g., 1000). This means you will sample 10000 meal plans. Create a barplot where each bar on the x-axis is a meal in the original list and the y-axis represents the number of times we sampled it in 3b. Is our sampler biased or uniform? If it is doing what we expect, we should sample each choice around the same number of times.\n"
   ]
  },
  {
   "cell_type": "code",
   "execution_count": 89,
   "id": "441e736c",
   "metadata": {},
   "outputs": [
    {
     "data": {
      "image/png": "[encoded data removed]",
      "text/plain": [
       "<Figure size 432x288 with 1 Axes>"
      ]
     },
     "metadata": {
      "needs_background": "light"
     },
     "output_type": "display_data"
    }
   ],
   "source": [
    "plt.bar(list(dinner_options_dict.keys()), height=list(dinner_options_dict.values()))  # density=False would make counts\n",
    "plt.ylabel('Frequency')\n",
    "plt.xlabel('Dinner Option')\n",
    "plt.xticks(rotation=70);"
   ]
  },
  {
   "cell_type": "markdown",
   "id": "556334b1",
   "metadata": {},
   "source": [
    "**Q4a:** In this question, we will use simulation to explore the behavior of a classic exercise in probability theory. _How many people do you need to gather in a room to ensure that there is a 50% chance that any two of them share the same birthday?_ For the first part of the question, design a function that randomly samples birthdays from a population of _N_ individuals and checks whether 2 or more members of the group share a birthday and returns `True` if there is at least one shared birthday and `False` if not."
   ]
  },
  {
   "cell_type": "code",
   "execution_count": 96,
   "id": "dd7b59bf",
   "metadata": {},
   "outputs": [
    {
     "data": {
      "text/plain": [
       "True"
      ]
     },
     "execution_count": 96,
     "metadata": {},
     "output_type": "execute_result"
    }
   ],
   "source": [
    "def sample_pop_bdays(pop_size):\n",
    "    share_birthday = False \n",
    "    birthdays = [ int(random.random()*365)+1 for individual in range(pop_size) ]\n",
    "    bday_counts = {}\n",
    "    for bday in birthdays: \n",
    "        try:\n",
    "            bday_counts[bday] += 1\n",
    "        except: \n",
    "            bday_counts[bday] = 1\n",
    "    for bday in bday_counts: \n",
    "        if bday_counts[bday] > 1: \n",
    "            share_birthday = True \n",
    "            break \n",
    "    return share_birthday\n",
    "\n",
    "sample_pop_bdays(100)"
   ]
  },
  {
   "cell_type": "markdown",
   "id": "eb986a8e",
   "metadata": {},
   "source": [
    "**Q4b:** Write another function that uses the function you composed in the previous question in a for loop to count the number of times that you observe a shared birthday over 10000 iterations. Each of the iterations in the loop is called a **replicate**. Use this number to calculate the proportion of times or _frequency_ with which you observe one or more shared birthdays in the population. "
   ]
  },
  {
   "cell_type": "code",
   "execution_count": 98,
   "id": "e1cd2ce4",
   "metadata": {},
   "outputs": [],
   "source": [
    "def shared_bday_frequency(pop_size):\n",
    "    positive_outcome = 0 \n",
    "    for rep in range(10000): \n",
    "        if sample_pop_bdays(pop_size):\n",
    "            positive_outcome += 1\n",
    "    return positive_outcome/10000.0"
   ]
  },
  {
   "cell_type": "markdown",
   "id": "9d6e8120",
   "metadata": {},
   "source": [
    "**Q4c:** Use the function you wrote in the previous question to estimate the frequency with which you observe a shared birthday across a range of population sizes in order to find the number of people that are required to lead to a 50% expectation that any two members share a birthday. You might use a for loop to calculate this frequency over a range of population sizes, starting from a small number of people (say, around 5-10), and ending at some fairly large number. Store the results in a dictionary, with the keys being the size of the population and the values being the proportion of replicates in which two individuals share a birthday. "
   ]
  },
  {
   "cell_type": "code",
   "execution_count": 108,
   "id": "1022cab6",
   "metadata": {},
   "outputs": [
    {
     "name": "stdout",
     "output_type": "stream",
     "text": [
      "{5: 0.0248, 6: 0.0391, 7: 0.0579, 8: 0.0717, 9: 0.0889, 10: 0.1159, 11: 0.1412, 12: 0.1751, 13: 0.1921, 14: 0.2194, 15: 0.2536, 16: 0.292, 17: 0.3193, 18: 0.3426, 19: 0.3793, 20: 0.4152, 21: 0.4429, 22: 0.4677, 23: 0.5, 24: 0.5372, 25: 0.5727, 26: 0.6021, 27: 0.6313, 28: 0.6698, 29: 0.6777, 30: 0.7158, 31: 0.7296, 32: 0.7544, 33: 0.7656, 34: 0.7901, 35: 0.8125, 36: 0.8367, 37: 0.8435, 38: 0.8592, 39: 0.8811, 40: 0.8915, 41: 0.9008, 42: 0.9137, 43: 0.9264, 44: 0.93, 45: 0.9432, 46: 0.9462, 47: 0.9556, 48: 0.9615, 49: 0.9647}\n"
     ]
    }
   ],
   "source": [
    "output_dict = {} \n",
    "for pop_size in range(5,50): \n",
    "    output_dict[pop_size] = shared_bday_frequency(pop_size)\n",
    "print(output_dict)"
   ]
  },
  {
   "cell_type": "markdown",
   "id": "1ab25832",
   "metadata": {},
   "source": [
    "**Q4d.** Create a graph showing how the odds of birthday sharing changes as you increase population size, with the x-axis representing population size and the y-axis representing birthday sharing frequency. Next, answer the question. **How many individuals are needed to generate a 50% chance that any two of them share a birthday?** How many are needed for there to be a 90% chance? Are these higher or lower than you expected? "
   ]
  },
  {
   "cell_type": "code",
   "execution_count": 111,
   "id": "89ca7d82",
   "metadata": {},
   "outputs": [
    {
     "data": {
      "text/plain": [
       "<matplotlib.lines.Line2D at 0x7f433b7f4f40>"
      ]
     },
     "execution_count": 111,
     "metadata": {},
     "output_type": "execute_result"
    },
    {
     "data": {
      "image/png": "[encoded data removed]",
      "text/plain": [
       "<Figure size 432x288 with 1 Axes>"
      ]
     },
     "metadata": {
      "needs_background": "light"
     },
     "output_type": "display_data"
    }
   ],
   "source": [
    "plt.plot(output_dict.keys(), output_dict.values())\n",
    "plt.axhline(y=0.5, color = 'black', linestyle = '--')\n",
    "plt.axhline(y=0.9, color = 'black', linestyle = '--')"
   ]
  },
  {
   "cell_type": "code",
   "execution_count": null,
   "id": "9d7c47ec",
   "metadata": {},
   "outputs": [],
   "source": []
  }
 ],
 "metadata": {
  "kernelspec": {
   "display_name": "Python 3 (ipykernel)",
   "language": "python",
   "name": "python3"
  },
  "language_info": {
   "codemirror_mode": {
    "name": "ipython",
    "version": 3
   },
   "file_extension": ".py",
   "mimetype": "text/x-python",
   "name": "python",
   "nbconvert_exporter": "python",
   "pygments_lexer": "ipython3",
   "version": "3.11.1"
  }
 },
 "nbformat": 4,
 "nbformat_minor": 5
}
