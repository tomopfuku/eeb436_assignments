{
 "cells": [
  {
   "cell_type": "markdown",
   "id": "61a58e0f",
   "metadata": {},
   "source": [
    "# Assignment 9: Birth-death models, poisson processes, and Gillespie\n",
    "\n",
    "## EEB 463"
   ]
  },
  {
   "cell_type": "markdown",
   "id": "8021b070",
   "metadata": {},
   "source": [
    "## Introduction\n",
    "\n",
    "This week, you will implement several tools to simulate a birth-death process and examine its behavior."
   ]
  },
  {
   "cell_type": "markdown",
   "id": "14db94ea",
   "metadata": {},
   "source": [
    "## Q1. Exponential distribution\n",
    "\n",
    "Please copy your distributions module into this directory. Update it to implement your own exponential distribution class, with a `rate` attribute. Using the formula given in lecture, also implement a `sample` method to draw random samples from this distribution. Import `distributions`, instantiate an exponential distribution with rate = 0.3, and plot a histogram of 10000 random samples."
   ]
  },
  {
   "cell_type": "code",
   "execution_count": 1,
   "id": "a2822bae",
   "metadata": {},
   "outputs": [],
   "source": [
    "import distributions as dist\n",
    "import matplotlib.pyplot as plt\n"
   ]
  },
  {
   "cell_type": "markdown",
   "id": "1524d367",
   "metadata": {},
   "source": [
    "## Q2. Birth-death with diversity equilibrium\n",
    "\n",
    "### Q2a.\n",
    "\n",
    "Please implement a diversity-dependent birth-death process, where the per-capita birth rate decreases linearly with diversity, $D$, relative to the starting rate, &lambda; and the per-capita death rate increases linearly with $D$, relative to starting rate &mu;. You may use the following functions to calculate diversity-dependent rates, $\\lambda_D$ and $\\mu_D$:\n",
    "\n",
    "$$ \\lambda_D =  \\lambda - \\alpha D $$\n",
    "\n",
    "$$ \\mu_D = \\mu + \\alpha D $$\n",
    "\n",
    "where &alpha; is a scaling constant (similar to &alpha; of the OU process).\n",
    "\n",
    "Simulate 100 birth-death replicates for 1000 time units, drawing waiting times from an exponential distribution. Remember that this distribution will change as the density-dependent rates change. Plot all 100 replicates. \n",
    "\n",
    "Please use the following values:\n",
    "\n",
    "$\\lambda = 0.03$\n",
    "\n",
    "$\\mu = 0.02$\n",
    "\n",
    "$\\alpha = 0.00005$\n",
    "\n",
    "$D_{start} = 10$\n",
    "\n"
   ]
  },
  {
   "cell_type": "code",
   "execution_count": null,
   "id": "ec841da5",
   "metadata": {},
   "outputs": [],
   "source": []
  },
  {
   "cell_type": "markdown",
   "id": "ec13c17f",
   "metadata": {},
   "source": [
    "### Q2b. \n",
    "\n",
    "You should be able to see your simulated replicates approach and track an equilibrium density of individuals. Rerun your simulations above, this time retaining all simulated values of $D$ once all of the replicates are in equilibrium. You should be able to simply retain all values of $D$ where t > 500. Plot a histogram of these values and describe the distribution $D$ takes over this equilibrium. What is the average number of species at equilibrium? Calculate it and assign it to the variable `mean_sp`\n",
    "\n"
   ]
  },
  {
   "cell_type": "code",
   "execution_count": null,
   "id": "8b1baa72",
   "metadata": {},
   "outputs": [],
   "source": []
  },
  {
   "cell_type": "markdown",
   "id": "c94ef5a5",
   "metadata": {},
   "source": [
    "### Q2c.\n",
    "\n",
    "Modify your simulation code from Q2a yet again to retain all of the waiting times drawn from the shifting exponential distribution once the runs reach equilibrium. Plot a histogram below, setting the number of bins to 50. Does this distribution of waiting times make sense to you, given your input parameters?"
   ]
  },
  {
   "cell_type": "code",
   "execution_count": null,
   "id": "59e47bc3",
   "metadata": {},
   "outputs": [],
   "source": []
  },
  {
   "cell_type": "markdown",
   "id": "4dabe74b",
   "metadata": {},
   "source": [
    "TYPE ANSWER HERE"
   ]
  }
 ],
 "metadata": {
  "kernelspec": {
   "display_name": "Python 3 (ipykernel)",
   "language": "python",
   "name": "python3"
  },
  "language_info": {
   "codemirror_mode": {
    "name": "ipython",
    "version": 3
   },
   "file_extension": ".py",
   "mimetype": "text/x-python",
   "name": "python",
   "nbconvert_exporter": "python",
   "pygments_lexer": "ipython3",
   "version": "3.11.6"
  }
 },
 "nbformat": 4,
 "nbformat_minor": 5
}
