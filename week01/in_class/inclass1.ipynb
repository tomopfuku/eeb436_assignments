{
 "cells": [
  {
   "cell_type": "markdown",
   "id": "61a281a3",
   "metadata": {},
   "source": []
  },
  {
   "cell_type": "markdown",
   "id": "6dd80857",
   "metadata": {},
   "source": [
    "# Title\n",
    "\n",
    "i have osme content\n",
    "\n",
    "## Subheader\n",
    "\n",
    "more text"
   ]
  },
  {
   "cell_type": "code",
   "execution_count": 14,
   "id": "05a3ab09",
   "metadata": {},
   "outputs": [
    {
     "data": {
      "text/plain": [
       "10.0"
      ]
     },
     "execution_count": 14,
     "metadata": {},
     "output_type": "execute_result"
    }
   ],
   "source": [
    "a = 10.0\n",
    "\n",
    "a"
   ]
  },
  {
   "cell_type": "code",
   "execution_count": 9,
   "id": "4aba0f77",
   "metadata": {},
   "outputs": [
    {
     "data": {
      "text/plain": [
       "0.9708737864077669"
      ]
     },
     "execution_count": 9,
     "metadata": {},
     "output_type": "execute_result"
    }
   ],
   "source": [
    "10. / 10.3"
   ]
  },
  {
   "cell_type": "code",
   "execution_count": 13,
   "id": "a399d247",
   "metadata": {},
   "outputs": [
    {
     "data": {
      "text/plain": [
       "'this is some text'"
      ]
     },
     "execution_count": 13,
     "metadata": {},
     "output_type": "execute_result"
    }
   ],
   "source": [
    "b = \"this is some text\"\n",
    "b"
   ]
  },
  {
   "cell_type": "code",
   "execution_count": 19,
   "id": "a7c0c543",
   "metadata": {},
   "outputs": [
    {
     "name": "stdout",
     "output_type": "stream",
     "text": [
      "[10, 20, 30, 40, 50, 60]\n"
     ]
    }
   ],
   "source": [
    "my_list = [10,20,30,40,50]\n",
    "my_list.append(60)\n",
    "print(my_list)"
   ]
  },
  {
   "cell_type": "code",
   "execution_count": 20,
   "id": "7fd9e615",
   "metadata": {},
   "outputs": [],
   "source": [
    "def add_two_numbers(number_1, number_2):\n",
    "    added_num = number_1 + number_2\n",
    "    return added_num"
   ]
  },
  {
   "cell_type": "code",
   "execution_count": 21,
   "id": "8cc647b6",
   "metadata": {
    "scrolled": true
   },
   "outputs": [
    {
     "data": {
      "text/plain": [
       "30"
      ]
     },
     "execution_count": 21,
     "metadata": {},
     "output_type": "execute_result"
    }
   ],
   "source": [
    "add_two_numbers(10,20)"
   ]
  },
  {
   "cell_type": "code",
   "execution_count": 23,
   "id": "0a5cc565",
   "metadata": {},
   "outputs": [
    {
     "name": "stdout",
     "output_type": "stream",
     "text": [
      "11\n",
      "21\n",
      "31\n",
      "41\n",
      "51\n",
      "61\n"
     ]
    }
   ],
   "source": [
    "for item in my_list:\n",
    "    print(item + 1)\n",
    "    "
   ]
  },
  {
   "cell_type": "code",
   "execution_count": 28,
   "id": "6e6fcc4b",
   "metadata": {},
   "outputs": [
    {
     "name": "stdout",
     "output_type": "stream",
     "text": [
      "2\n"
     ]
    }
   ],
   "source": [
    "my_dictionary = {\"first\" : 1, \"second\" : 2, \"third\" : 3}\n",
    "print(my_dictionary[\"second\"])"
   ]
  },
  {
   "cell_type": "code",
   "execution_count": 30,
   "id": "be1283d5",
   "metadata": {},
   "outputs": [
    {
     "data": {
      "text/plain": [
       "{'first': 1, 'second': 2, 'third': 3, 'fourth': 4}"
      ]
     },
     "execution_count": 30,
     "metadata": {},
     "output_type": "execute_result"
    }
   ],
   "source": [
    "my_dictionary[\"fourth\"] = 4\n",
    "my_dictionary"
   ]
  }
 ],
 "metadata": {
  "kernelspec": {
   "display_name": "Python 3 (ipykernel)",
   "language": "python",
   "name": "python3"
  },
  "language_info": {
   "codemirror_mode": {
    "name": "ipython",
    "version": 3
   },
   "file_extension": ".py",
   "mimetype": "text/x-python",
   "name": "python",
   "nbconvert_exporter": "python",
   "pygments_lexer": "ipython3",
   "version": "3.11.6"
  }
 },
 "nbformat": 4,
 "nbformat_minor": 5
}
