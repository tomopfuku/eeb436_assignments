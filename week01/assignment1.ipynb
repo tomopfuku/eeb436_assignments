{
 "cells": [
  {
   "cell_type": "markdown",
   "id": "31200823",
   "metadata": {},
   "source": [
    "# Assignment 1 - Programming crash course\n",
    "## EEB 463 \n",
    "\n",
    "**Name:**\n",
    "\n",
    "\n"
   ]
  },
  {
   "cell_type": "markdown",
   "id": "840f46ea",
   "metadata": {},
   "source": [
    "In this assignment, you will exercise several new programming concepts and develop (or reinforce) your Python and general-purpose programming skills.\n",
    "\n",
    "**Q1.** Please open the file `avonet_tax.txt` and read the contents into memory using the `.readlines()` method and assign the resulting value to the variable `lines`. Inspect the first element of the resulting list and note the structure of our data. "
   ]
  },
  {
   "cell_type": "code",
   "execution_count": null,
   "id": "6aae9477",
   "metadata": {},
   "outputs": [],
   "source": []
  },
  {
   "cell_type": "markdown",
   "id": "59e898f7",
   "metadata": {},
   "source": [
    "**Q2.** Create an empty dictionary and assign it to the variable `fams`. Iterate through the lines of the file, skipping the first line by slicing (indexing the range of lines you want to include in the loop) `lines`. During each iteration, split the string representing each line into a list, delimited by the separating character (in this case, a comma) using `.split()`. Once you have done this, store the taxonomic family and species in the dictionary you have created, using species names as the keys and families as the values. Our goal is to link each species name in the dataset to a family."
   ]
  },
  {
   "cell_type": "code",
   "execution_count": null,
   "id": "0086a99a",
   "metadata": {},
   "outputs": [],
   "source": [
    "fams = {}"
   ]
  },
  {
   "cell_type": "markdown",
   "id": "623a788b",
   "metadata": {},
   "source": [
    "**Q3.** Open the file `avonet.txt` and assign the content as a list of strings to the variable `lines` in the same manner as you did in Q1. Inspect the first element."
   ]
  },
  {
   "cell_type": "code",
   "execution_count": null,
   "id": "80386bfc",
   "metadata": {},
   "outputs": [],
   "source": []
  },
  {
   "cell_type": "markdown",
   "id": "c21afda3",
   "metadata": {},
   "source": [
    "Run the code below to set up a dictionary where the keys will be the families represented in the dataset and their associated values will be empty lists. We will be storing data in these empty lists in the next question. We will assign this dictionary to the variable `fam_wing_lengths`. \n",
    "\n",
    "NOTE: keep track of your variable names. For this block to work, you need to have followed the variable naming scheme requested earlier in the assignment."
   ]
  },
  {
   "cell_type": "code",
   "execution_count": null,
   "id": "0283f69b",
   "metadata": {},
   "outputs": [],
   "source": [
    "allfams = set(list(fams.values()))\n",
    "fam_wing_lengths = {}\n",
    "\n",
    "for family in allfams:\n",
    "    fam_wing_lengths[family] = []"
   ]
  },
  {
   "cell_type": "markdown",
   "id": "718f51c3",
   "metadata": {},
   "source": [
    "Create a 'Genus' class"
   ]
  },
  {
   "cell_type": "markdown",
   "id": "e481a052",
   "metadata": {},
   "source": [
    "**Q4.** Iterate through `lines`, skipping the first line. During each iteration, split up the line as you did before. Now our goal is to populate `fam_wing_lengths` such that each key is a family name (stored as a string) and each value a list of the wing lengths representing the species constituting the family. You will need to convert each wing length as read from the file from a string into a float. Since the data in `avonet.txt` do not indicate family, you will need to use a dictionary look up to obtain the family associated with each species from `fams`.\n",
    "\n",
    "NOTE: There are many missing entries in the wing length data. These are indicated as \"NA\". You will need to skip over these when converting the wing lengths into floats. You can use this either using a conditional statement (e.g., `if wing_length == \"NA\"` or using exception handling (e.g., `try: float(wing_length)`)\n",
    "\n",
    "There are a number of species in `avonet.txt` that are not represented in `fams`. Wrap your dictionary look up into a `try: except:` statement to do so by adapting the code below:\n",
    "\n",
    "```\n",
    "try:\n",
    "    fams[species]\n",
    "except:\n",
    "    continue\n",
    "```\n",
    "\n",
    "This will proceed to the next line without doing anything in cases where the current species is not contained within `fams`.\n"
   ]
  },
  {
   "cell_type": "code",
   "execution_count": null,
   "id": "d0ff3b00",
   "metadata": {},
   "outputs": [],
   "source": []
  },
  {
   "cell_type": "markdown",
   "id": "d5f1c690",
   "metadata": {},
   "source": [
    "**Q5.** Complete the function below to accept as input a list of floats and output their arithmetic mean."
   ]
  },
  {
   "cell_type": "code",
   "execution_count": null,
   "id": "f8233048",
   "metadata": {},
   "outputs": [],
   "source": [
    "def calc_mean(values):\n",
    "    return"
   ]
  },
  {
   "cell_type": "markdown",
   "id": "3b97ccb9",
   "metadata": {},
   "source": [
    "**Q6.** Iterate through `fam_wing_lengths` and calculate the mean value for each family. Print the name of the family and its mean wing length to the screen. You will need to skip over any families with no data (i.e., have empty lists associated with them)."
   ]
  },
  {
   "cell_type": "code",
   "execution_count": null,
   "id": "295764b7",
   "metadata": {},
   "outputs": [],
   "source": []
  },
  {
   "cell_type": "markdown",
   "id": "ba09ae95",
   "metadata": {},
   "source": [
    "**Q7.** Pick any of these families and extract the list of wing lengths associated with them in `fam_wing_lengths`. Assign this list to the variable `single_family_vals`."
   ]
  },
  {
   "cell_type": "code",
   "execution_count": null,
   "id": "d8d8e5b4",
   "metadata": {},
   "outputs": [],
   "source": []
  },
  {
   "cell_type": "markdown",
   "id": "472faa03",
   "metadata": {},
   "source": [
    "**Q8.** Create a histogram to visualize how wing lengths are distributed in your chosen family. You might use either the `histplot()` function in the `seaborn` module, or `histogram()` in `matplotlib`. Examine the spread of the data and compare the mean value to the distribution of values. Is the distribution skewed? If the number of sampled species in your chosen family is small, you may consider exploring a few to find a more speciose family."
   ]
  },
  {
   "cell_type": "code",
   "execution_count": null,
   "id": "f12d62f6",
   "metadata": {},
   "outputs": [],
   "source": []
  },
  {
   "cell_type": "code",
   "execution_count": null,
   "id": "622c467c",
   "metadata": {},
   "outputs": [],
   "source": []
  },
  {
   "cell_type": "code",
   "execution_count": null,
   "id": "f6c541c7",
   "metadata": {},
   "outputs": [],
   "source": []
  }
 ],
 "metadata": {
  "kernelspec": {
   "display_name": "Python 3 (ipykernel)",
   "language": "python",
   "name": "python3"
  },
  "language_info": {
   "codemirror_mode": {
    "name": "ipython",
    "version": 3
   },
   "file_extension": ".py",
   "mimetype": "text/x-python",
   "name": "python",
   "nbconvert_exporter": "python",
   "pygments_lexer": "ipython3",
   "version": "3.11.1"
  }
 },
 "nbformat": 4,
 "nbformat_minor": 5
}
