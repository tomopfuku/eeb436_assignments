{
 "cells": [
  {
   "cell_type": "markdown",
   "id": "31200823",
   "metadata": {},
   "source": [
    "# Assignment 3 - Parametric distributions and OOP\n",
    "## EEB 463\n",
    "\n",
    "\n"
   ]
  },
  {
   "cell_type": "markdown",
   "id": "840f46ea",
   "metadata": {},
   "source": [
    "This week, you will use the concepts and tools introduced in class to implement your own parametric distributions in Python. We will then use those tools to generate simulated data and understand the behavior of normal distributions."
   ]
  },
  {
   "cell_type": "code",
   "execution_count": null,
   "id": "571bc0c8",
   "metadata": {},
   "outputs": [],
   "source": [
    "import random\n",
    "import matplotlib.pyplot as plt \n",
    "import math"
   ]
  },
  {
   "cell_type": "markdown",
   "id": "9958ab56",
   "metadata": {},
   "source": [
    "**Q1:**\n",
    "\n",
    "_a)_ Complete the class below to implement your own normal distribution. Start by creating an `__init__` method. Include properties for the normal parameter values mean and standard deviation. \n",
    "\n",
    "_b)_ Next, add a method to your normal class that transforms two random and independent uniform variables and transforms them into two independent normal random variables, drawn from a normal distribution with mean and standard deviation matched to those specified when instantiating the normal distribution object. Call this method `sample`."
   ]
  },
  {
   "cell_type": "code",
   "execution_count": null,
   "id": "5356880c",
   "metadata": {},
   "outputs": [],
   "source": [
    "\"\"\"\n",
    "class normal:\n",
    "    def __init__(self):\n",
    "\n",
    "    def sample(self, n = 1, method = \"polar\"):\n",
    "        \n",
    "        return norm\n",
    "\"\"\""
   ]
  },
  {
   "cell_type": "markdown",
   "id": "48fe9699",
   "metadata": {},
   "source": [
    "**Q2.** Instantiate two normal distributions, with two different means and two different standard deviations. Assign these to the variables `norm1` and `norm2`, respectively."
   ]
  },
  {
   "cell_type": "code",
   "execution_count": null,
   "id": "d553de64",
   "metadata": {},
   "outputs": [],
   "source": []
  },
  {
   "cell_type": "markdown",
   "id": "bea780c0",
   "metadata": {},
   "source": [
    "**Q3.** Generate 1000 samples from each of these distributions. Next, sum the samples so that each random variable drawn from `norm1` is summed with a corresponding random variable drawn from `norm2` (you may want to just draw the value located at the same index in the corresponding list)."
   ]
  },
  {
   "cell_type": "code",
   "execution_count": null,
   "id": "19b221bb",
   "metadata": {},
   "outputs": [],
   "source": []
  },
  {
   "cell_type": "markdown",
   "id": "b7b60721",
   "metadata": {},
   "source": [
    "**Q4.** Plot histograms of the values drawn from each normal distribution and the summed values, so that all three histograms are plotted on the same axes. To make things more readable, you might make all three histograms translucent by adding the argument `alpha=0.5` (or set to another preferred value) so that you can fully see the range of each histogram in the areas where they overlap."
   ]
  },
  {
   "cell_type": "code",
   "execution_count": null,
   "id": "bfa0ae32",
   "metadata": {},
   "outputs": [],
   "source": []
  },
  {
   "cell_type": "markdown",
   "id": "9c8dd31f",
   "metadata": {},
   "source": [
    "**Q5.** Copy over the `calc_mean` function you composed previously. Use it to calculate the mean of the pooled samples from both distributions. Write an additional function to calculate the standard deviation. Calculate the mean and standard deviation for the samples from `norm1` and `norm2` separately and compare each of these to the mean and standard deviation of the summed distribution. Comment on the result. What is the distribution that results when you sum two normal distributions?"
   ]
  },
  {
   "cell_type": "code",
   "execution_count": null,
   "id": "d78426d1",
   "metadata": {},
   "outputs": [],
   "source": []
  }
 ],
 "metadata": {
  "kernelspec": {
   "display_name": "Python 3 (ipykernel)",
   "language": "python",
   "name": "python3"
  },
  "language_info": {
   "codemirror_mode": {
    "name": "ipython",
    "version": 3
   },
   "file_extension": ".py",
   "mimetype": "text/x-python",
   "name": "python",
   "nbconvert_exporter": "python",
   "pygments_lexer": "ipython3",
   "version": "3.11.1"
  }
 },
 "nbformat": 4,
 "nbformat_minor": 5
}
