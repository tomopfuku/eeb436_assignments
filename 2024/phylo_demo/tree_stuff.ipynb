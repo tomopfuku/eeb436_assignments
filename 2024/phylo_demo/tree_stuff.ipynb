{
 "cells": [
  {
   "cell_type": "code",
   "execution_count": 1,
   "id": "33d2e8e4",
   "metadata": {},
   "outputs": [],
   "source": [
    "import node, tree_reader"
   ]
  },
  {
   "cell_type": "code",
   "execution_count": 4,
   "id": "250e1588",
   "metadata": {},
   "outputs": [
    {
     "name": "stdout",
     "output_type": "stream",
     "text": [
      "<node.Node object at 0x7ff29ab4a490>\n"
     ]
    }
   ],
   "source": [
    "newick = \"((A:0.2,B:03):0.3,(C:0.1,D:0.5):0.2);\"\n",
    "tree = tree_reader.read_tree_string(newick)\n",
    "print(tree)"
   ]
  },
  {
   "cell_type": "code",
   "execution_count": null,
   "id": "5ed845d0",
   "metadata": {},
   "outputs": [],
   "source": []
  },
  {
   "cell_type": "code",
   "execution_count": 8,
   "id": "a8e51ce3",
   "metadata": {},
   "outputs": [
    {
     "name": "stdout",
     "output_type": "stream",
     "text": [
      "[<node.Node object at 0x7ff29ab4a490>, <node.Node object at 0x7ff29ab6e510>, <node.Node object at 0x7ff29ab6fbd0>, <node.Node object at 0x7ff29ab70110>, <node.Node object at 0x7ff29ab70090>, <node.Node object at 0x7ff29ab70310>, <node.Node object at 0x7ff29ab70190>]\n"
     ]
    }
   ],
   "source": [
    "postorder_nodes = [n for n in tree.iternodes(\"preorder\")]\n",
    "print(postorder_nodes)"
   ]
  },
  {
   "cell_type": "code",
   "execution_count": 6,
   "id": "40975a50",
   "metadata": {},
   "outputs": [
    {
     "name": "stdout",
     "output_type": "stream",
     "text": [
      " 0.0\n",
      " 0.3\n",
      "A 0.2\n",
      "B 3.0\n",
      " 0.2\n",
      "C 0.1\n",
      "D 0.5\n"
     ]
    }
   ],
   "source": [
    "for n in tree.iternodes(\"preorder\"):\n",
    "    print(n.label,n.length)"
   ]
  }
 ],
 "metadata": {
  "kernelspec": {
   "display_name": "Python 3 (ipykernel)",
   "language": "python",
   "name": "python3"
  },
  "language_info": {
   "codemirror_mode": {
    "name": "ipython",
    "version": 3
   },
   "file_extension": ".py",
   "mimetype": "text/x-python",
   "name": "python",
   "nbconvert_exporter": "python",
   "pygments_lexer": "ipython3",
   "version": "3.11.6"
  }
 },
 "nbformat": 4,
 "nbformat_minor": 5
}
