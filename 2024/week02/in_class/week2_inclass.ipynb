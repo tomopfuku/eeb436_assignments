{
 "cells": [
  {
   "cell_type": "markdown",
   "id": "d2a63307",
   "metadata": {
    "slideshow": {
     "slide_type": "slide"
    }
   },
   "source": [
    "# week 2\n",
    "## probability pt. 1: frequency distributions and simulation \n",
    "\n",
    "dr. tomomi parins-fukuchi"
   ]
  },
  {
   "cell_type": "markdown",
   "id": "5388c0fc",
   "metadata": {
    "slideshow": {
     "slide_type": "slide"
    }
   },
   "source": [
    "### what is stochasticity?\n",
    "  \n",
    "  - behavior described by an underlying probability distribution\n",
    "  - characterized by random 'noise'\n",
    "  - need to think a bit about **probabilities**\n"
   ]
  },
  {
   "cell_type": "markdown",
   "id": "0a87d961",
   "metadata": {
    "slideshow": {
     "slide_type": "slide"
    }
   },
   "source": [
    "### there are debates about what probabilities actually are\n",
    "  \n",
    "  - one view: \"probabilities are relative frequency of an outcome in repeated trials\"\n",
    "  - another: \"probabilities reflect degree of belief\"\n",
    "  - in general, we'll just think of them as **reflecting uncertainty in a 'thing'**\n"
   ]
  },
  {
   "cell_type": "markdown",
   "id": "c1583d4d",
   "metadata": {
    "slideshow": {
     "slide_type": "slide"
    }
   },
   "source": [
    "### probability\n",
    "  \n",
    "  - number between zero and one\n",
    "  - an event with probability 0 is impossible\n",
    "  - an event with probability 1 is certain\n"
   ]
  },
  {
   "cell_type": "markdown",
   "id": "bd34841f",
   "metadata": {
    "slideshow": {
     "slide_type": "slide"
    }
   },
   "source": [
    "### random probability distributions\n",
    "\n",
    "  - describe the probabilities of different \"things\"  \n",
    "  - 'parametric' and 'nonparametric'"
   ]
  },
  {
   "cell_type": "markdown",
   "id": "2d2e796c",
   "metadata": {
    "slideshow": {
     "slide_type": "slide"
    }
   },
   "source": [
    "### **'parametric' distributions**\n",
    "\n",
    "  - e.g., normal, bernoulli, exponential \n",
    "  - mathematical function that reflects probabilities of 'things' given some parameters\n",
    "  - will get into this next week\n"
   ]
  },
  {
   "cell_type": "markdown",
   "id": "46fb699a",
   "metadata": {
    "slideshow": {
     "slide_type": "slide"
    }
   },
   "source": [
    "### **'nonparametric' (empirical) distributions**\n",
    "\n",
    "  - estimated from some data ('empirical' == 'observed')\n",
    "  - what proportion of the time does an event happen? \n",
    "  - data could be real or simulated\n"
   ]
  },
  {
   "cell_type": "code",
   "execution_count": null,
   "id": "0efb50af",
   "metadata": {
    "slideshow": {
     "slide_type": "slide"
    }
   },
   "outputs": [],
   "source": [
    "## a histogram is a simple frequency distribution\n",
    "\n",
    "import numpy as np\n",
    "import matplotlib.pyplot as plt\n",
    "\n",
    "\n",
    "fl = open(\"mam_bs.tab\",\"r\")\n",
    "lines = fl.readlines()\n",
    "\n",
    "masses = []\n",
    "for line in lines[1:]:\n",
    "    spls = line.strip().split(\",\")\n",
    "    mass = spls[-1]\n",
    "    try:\n",
    "        mass = float(mass)\n",
    "    except:\n",
    "        continue\n",
    "    masses.append(mass)\n",
    "\n",
    "plt.hist(masses)\n",
    "plt.show()"
   ]
  },
  {
   "cell_type": "markdown",
   "id": "bd5c1216",
   "metadata": {
    "slideshow": {
     "slide_type": "slide"
    }
   },
   "source": [
    "### **simulation**\n",
    "  - we can simulate probabilities and probability distributions\n",
    "  - this requires some kernel of randomness\n",
    "  - typically, we use 'pseudo-randomness'"
   ]
  },
  {
   "cell_type": "code",
   "execution_count": null,
   "id": "58e623b8",
   "metadata": {
    "slideshow": {
     "slide_type": "subslide"
    }
   },
   "outputs": [],
   "source": [
    "import random"
   ]
  },
  {
   "cell_type": "code",
   "execution_count": null,
   "id": "53de65fc",
   "metadata": {
    "slideshow": {
     "slide_type": "subslide"
    }
   },
   "outputs": [],
   "source": [
    "print(random.random())"
   ]
  },
  {
   "cell_type": "markdown",
   "id": "c20eb4a0",
   "metadata": {
    "slideshow": {
     "slide_type": "slide"
    }
   },
   "source": [
    "### **computation of stochasticity**\n",
    "\n",
    "  - general approach is to draw lots of little probabilities over and over\n",
    "  - these little probabilities sum to an instance of a distribution or stochastic process\n"
   ]
  },
  {
   "cell_type": "code",
   "execution_count": null,
   "id": "adc5b19d",
   "metadata": {
    "slideshow": {
     "slide_type": "subslide"
    }
   },
   "outputs": [],
   "source": [
    "r = [random.random() for _ in range(30)]\n",
    "#plt.hist(r)"
   ]
  },
  {
   "cell_type": "markdown",
   "id": "fb3b3e72",
   "metadata": {
    "slideshow": {
     "slide_type": "slide"
    }
   },
   "source": [
    "### **statistical uncertanity**\n",
    "  - can use this approach to estimate certainty of a statistical estimate\n",
    "  - **bootstrap**: shuffle data a bunch of times and see how a number varies\n",
    "  - mimics the process of sampling a dataset many times in the real world \n"
   ]
  },
  {
   "cell_type": "markdown",
   "id": "dec07b11",
   "metadata": {
    "slideshow": {
     "slide_type": "slide"
    }
   },
   "source": [
    "### **statistical uncertanity**\n",
    "  - can use this approach to estimate certainty of a statistical estimate\n",
    "  - **bootstrap**: see how an estimate varies over many repeated resamplings of your data\n",
    "  - mimics the process of sampling a dataset many times in the real world "
   ]
  },
  {
   "cell_type": "code",
   "execution_count": null,
   "id": "276e17c1",
   "metadata": {
    "slideshow": {
     "slide_type": "slide"
    }
   },
   "outputs": [],
   "source": [
    "## resampling data can be done several ways\n",
    "\n",
    "## with replacement\n",
    "\n",
    "values = [\"a\",\"b\",\"c\",\"d\",\"e\"]\n",
    "n_vals = len(values)\n",
    "\n",
    "## let's say we want to subsample 3 values:\n",
    "\n",
    "subsamp = []\n",
    "for _ in range(3):\n",
    "    pick_i = int(random.random() * n_vals)\n",
    "    pick = values[pick_i]\n",
    "    subsamp.append(pick)\n",
    "    \n",
    "print(subsamp)"
   ]
  },
  {
   "cell_type": "code",
   "execution_count": null,
   "id": "7492c372",
   "metadata": {
    "slideshow": {
     "slide_type": "slide"
    }
   },
   "outputs": [],
   "source": [
    "## resampling data can be done several ways\n",
    "\n",
    "## WITHOUT replacement\n",
    "\n",
    "values = [\"a\",\"b\",\"c\",\"d\",\"e\"]\n",
    "n_vals = len(values)\n",
    "\n",
    "## let's say we want to subsample 3 values:\n",
    "\n",
    "subsamp = []\n",
    "for _ in range(3):\n",
    "    pick_i = int(random.random() * n_vals)\n",
    "    pick = values[pick_i]\n",
    "    subsamp.append(pick)\n",
    "    \n",
    "print(subsamp)"
   ]
  },
  {
   "cell_type": "code",
   "execution_count": null,
   "id": "d170a1b7",
   "metadata": {
    "slideshow": {
     "slide_type": "slide"
    }
   },
   "outputs": [],
   "source": [
    "## local vs global variables, lists, without replacement\n",
    "\n"
   ]
  },
  {
   "cell_type": "markdown",
   "id": "dae32414",
   "metadata": {
    "slideshow": {
     "slide_type": "slide"
    }
   },
   "source": [
    "### statistical uncertainty\n",
    "\n",
    "- gauge uncertainty around estimate of body mass means for mammal families"
   ]
  },
  {
   "cell_type": "markdown",
   "id": "d00a7deb",
   "metadata": {
    "slideshow": {
     "slide_type": "slide"
    }
   },
   "source": [
    "### statistical uncertainty\n",
    "\n",
    "- gauge uncertainty around estimate of body mass means for mammal families\n",
    "- first need a function to calculate means:"
   ]
  },
  {
   "cell_type": "code",
   "execution_count": null,
   "id": "a0dc8d53",
   "metadata": {
    "slideshow": {
     "slide_type": "subslide"
    }
   },
   "outputs": [],
   "source": [
    "def calc_mean(vals):\n",
    "    x = 0.\n",
    "    for i in vals:\n",
    "        x += i\n",
    "    av = x / float( len(vals) )\n",
    "    return av"
   ]
  },
  {
   "cell_type": "markdown",
   "id": "2fada51c",
   "metadata": {
    "slideshow": {
     "slide_type": "slide"
    }
   },
   "source": [
    "### statistical uncertainty\n",
    "\n",
    "- next can create dictionary to store data by family\n",
    "    - families as keys, list of body masses as values"
   ]
  },
  {
   "cell_type": "code",
   "execution_count": null,
   "id": "e315ec4a",
   "metadata": {
    "slideshow": {
     "slide_type": "subslide"
    }
   },
   "outputs": [],
   "source": [
    "fl = open(\"mam_bs.tab\",\"r\")\n",
    "lines = fl.readlines()\n",
    "orders = {}\n",
    "for line in lines:\n",
    "    spls = line.strip().split(\",\")\n",
    "    order = spls[0]\n",
    "    mass = spls[-1]\n",
    "    if mass == \"NA\":\n",
    "        continue\n",
    "    try:\n",
    "        orders[order].append(np.log(float(mass)/1000.))\n",
    "    except:\n",
    "        orders[order] = []\n",
    "        orders[order].append(np.log(float(mass)/1000.))\n"
   ]
  },
  {
   "cell_type": "code",
   "execution_count": null,
   "id": "df1439b7",
   "metadata": {
    "slideshow": {
     "slide_type": "slide"
    }
   },
   "outputs": [],
   "source": [
    "## let's focus on 'Artiodactyla'\n",
    "\n",
    "keep_ord = \"Artiodactyla\"\n",
    "mean_mass = calc_mean(orders[keep_ord])\n",
    "plt.hist(orders[keep_ord])\n",
    "plt.axvline(mean_mass,color=\"black\")\n",
    "plt.show()"
   ]
  },
  {
   "cell_type": "markdown",
   "id": "51fe9903",
   "metadata": {
    "slideshow": {
     "slide_type": "slide"
    }
   },
   "source": [
    "### statistical uncertainty\n",
    "\n",
    "- now we can resample (bootstrap) our means to estimate uncertainty around this estimate\n",
    "- first, write a function to randomly sample our data **with** replacement"
   ]
  },
  {
   "cell_type": "code",
   "execution_count": null,
   "id": "8f0ccc1a",
   "metadata": {
    "slideshow": {
     "slide_type": "subslide"
    }
   },
   "outputs": [],
   "source": [
    "def resample_mean(vals): # resample with replacement\n",
    "    resamp_vals = []\n",
    "    n = len(vals)\n",
    "    for _ in range(n):\n",
    "        r = random.random()\n",
    "        ind = int(r * n)\n",
    "        pick = vals[ind]\n",
    "        resamp_vals.append(pick)\n",
    "    mean = calc_mean(resamp_vals)\n",
    "    return mean"
   ]
  },
  {
   "cell_type": "markdown",
   "id": "bbdb816e",
   "metadata": {
    "slideshow": {
     "slide_type": "slide"
    }
   },
   "source": [
    "### statistical uncertainty\n",
    "\n",
    "- next, need to create another function to repeat this resampling many times\n",
    "- **how does the estimate change every time the data is resampled?**\n",
    "- we are simulating the effects of sampling a dataset"
   ]
  },
  {
   "cell_type": "code",
   "execution_count": null,
   "id": "846785ab",
   "metadata": {
    "slideshow": {
     "slide_type": "subslide"
    }
   },
   "outputs": [],
   "source": [
    "def bootstrap_mean(vals, reps):\n",
    "    means = []\n",
    "    for _ in range(reps):\n",
    "        sim_mean = resample_mean(vals)\n",
    "        means.append(sim_mean)\n",
    "    return means"
   ]
  },
  {
   "cell_type": "code",
   "execution_count": null,
   "id": "90f35cb9",
   "metadata": {
    "slideshow": {
     "slide_type": "slide"
    }
   },
   "outputs": [],
   "source": [
    "# put it all together\n",
    "\n",
    "import seaborn as sns\n",
    "\n",
    "simmeans = bootstrap_mean(orders[keep_ord],5000)\n",
    "#sns.histplot(simmeans,bins=20,stat=\"probability\",kde=True)\n",
    "plt.hist(simmeans,density=True)\n",
    "plt.axvline(mean_mass,color=\"black\")\n",
    "plt.show()"
   ]
  },
  {
   "cell_type": "markdown",
   "id": "c9b5aa31",
   "metadata": {
    "slideshow": {
     "slide_type": "slide"
    }
   },
   "source": [
    "### significance\n",
    "\n",
    "- can use simulated resampling to create underlying distribution for significance tests\n",
    "- are mean masses significantly different for artiodactyla and carnivora?"
   ]
  },
  {
   "cell_type": "code",
   "execution_count": null,
   "id": "12d16602",
   "metadata": {
    "slideshow": {
     "slide_type": "slide"
    }
   },
   "outputs": [],
   "source": [
    "artio_masses = orders[\"Artiodactyla\"]\n",
    "carn_masses = orders[\"Carnivora\"]\n",
    "artio_mean = calc_mean(artio_masses)\n",
    "carn_mean  = calc_mean(carn_masses)\n",
    "\n",
    "emp_diff = artio_mean-carn_mean\n",
    "print(emp_diff)"
   ]
  },
  {
   "cell_type": "markdown",
   "id": "e0526c7e",
   "metadata": {
    "slideshow": {
     "slide_type": "slide"
    }
   },
   "source": [
    "### significance\n",
    "\n",
    "- our approach will be to repeatedly resample mass values from the larger sample of mammals to estimate the distrubution of mean differences when sampling two different groups"
   ]
  },
  {
   "cell_type": "code",
   "execution_count": null,
   "id": "44e604ff",
   "metadata": {
    "slideshow": {
     "slide_type": "slide"
    }
   },
   "outputs": [],
   "source": [
    "def resample_mean_n(vals,n): # resample with replacement\n",
    "    resamp_vals = []\n",
    "    for _ in range(n):\n",
    "        r = random.random()\n",
    "        ind = int(r * n)\n",
    "        pick = vals[ind]\n",
    "        resamp_vals.append(pick)\n",
    "    mean = calc_mean(resamp_vals)\n",
    "    return mean"
   ]
  },
  {
   "cell_type": "code",
   "execution_count": null,
   "id": "eda80cf2",
   "metadata": {
    "slideshow": {
     "slide_type": "slide"
    }
   },
   "outputs": [],
   "source": [
    "# log-transform all of the mass values\n",
    "\n",
    "log_masses = [np.log(i) for i in masses]\n",
    "\n",
    "differences = []\n",
    "for _ in range(10000):\n",
    "    artio_resamp = resample_mean_n(log_masses,len(artio_masses))\n",
    "    carn_resamp = resample_mean_n(log_masses, len(carn_masses))\n",
    "    diff = artio_resamp-carn_resamp\n",
    "    differences.append(diff)\n",
    "\n",
    "sns.histplot(differences,stat=\"probability\")"
   ]
  }
 ],
 "metadata": {
  "celltoolbar": "Slideshow",
  "kernelspec": {
   "display_name": "Python 3 (ipykernel)",
   "language": "python",
   "name": "python3"
  },
  "language_info": {
   "codemirror_mode": {
    "name": "ipython",
    "version": 3
   },
   "file_extension": ".py",
   "mimetype": "text/x-python",
   "name": "python",
   "nbconvert_exporter": "python",
   "pygments_lexer": "ipython3",
   "version": "3.11.6"
  }
 },
 "nbformat": 4,
 "nbformat_minor": 5
}
