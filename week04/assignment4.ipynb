{
 "cells": [
  {
   "cell_type": "markdown",
   "id": "31200823",
   "metadata": {},
   "source": [
    "# Assignment 2 - Frequency and probability\n",
    "## EEB 463\n",
    "\n",
    "\n"
   ]
  },
  {
   "cell_type": "markdown",
   "id": "840f46ea",
   "metadata": {},
   "source": [
    "We will build a simple stochastic model of tree distributions, motivated from Hubbell 1979, to understand some of the motivations behind the paper. In the process we will gain an intuition for independent random variables and conditional distributions.\n",
    "\n",
    "We will deal with the simplest case where there are two tree species and focus on just a small area of the forest. Let **T1** and **T2** be the densities of the adults of the two species. To begin with, suppose no one has sampled this area of the forest and there don't know the exact densities. However, data from other parts of the forest suggest that the density of the each tree species is distributed approximately normally. However, it would not make sense for a density of trees to be negative. Further, the patch can only support densities upto K = 20. K is called the carrying capacity of the patch. Therefore, each seed are distributed according to a truncated normal distribution with values between 0 and 10. \n",
    "\n",
    "We will be using the normal distribution class and functions for calculating the mean and variance that you wrote for last week's homework. You may use the version below by uncommenting it or replace it with your own."
   ]
  },
  {
   "cell_type": "code",
   "execution_count": 2,
   "id": "4510145a",
   "metadata": {},
   "outputs": [],
   "source": [
    "import random as rnd\n",
    "import matplotlib.pyplot as plt \n",
    "import math\n",
    "\n",
    "\"\"\"\n",
    "class normal :\n",
    "    def __init__(self, m = 0.0, sd = 1.0 ):\n",
    "        self.mean = m\n",
    "        self.sd = sd \n",
    "        self.var = sd**2 \n",
    "    \n",
    "    def sample(self, n = 1):\n",
    "        out = [] \n",
    "        while len(out) < n: \n",
    "            x = rnd.random() \n",
    "            y = rnd.random() \n",
    "            xnorm = (((math.sqrt(-2 * math.log(x)) * math.cos(2. * math.pi * y))*self.sd)+self.mean)\n",
    "            ynorm = (((math.sqrt(-2 * math.log(x)) * math.sin(2. * math.pi * y))*self.sd)+self.mean)\n",
    "            out += [xnorm,ynorm]\n",
    "#        print(out)\n",
    "        out = out[0:n] #since sometimes it can be greater than n since we add two at a time. \n",
    "        return out\n",
    "    \n",
    "def calc_mean(values):\n",
    "    return sum(values)/len(values)\n",
    "\n",
    "def calc_variance(values): \n",
    "    mean = calc_mean(values) \n",
    "    var = 0 \n",
    "    for value in values: \n",
    "        var += (value-mean)**2\n",
    "    return var/len(values)\n",
    "\n",
    "\"\"\""
   ]
  },
  {
   "cell_type": "markdown",
   "id": "8bfcf146",
   "metadata": {},
   "source": [
    "**Q1a:** Define a class `trunc_normal` to implement your own truncated normal distiribution. Create `__init__` as you did for the normal distribution class in your previous assignment. In addition to the mean and standard deviation of the underlying normal distribution, we will have two other parameters for trucated distribution, namely $a$ and $b$, which are the lower and upper bounds of the distribution (0.5 pt).  \n",
    "Now, add a method `sample` that generates a list of $n$ samples of the truncated normal distribution. In order to do this, you can use the normal class defined in the previous assignment to draw a normal sample and add it to the output list if it lies between the $a$ and $b$ (0.5 pt)."
   ]
  },
  {
   "cell_type": "code",
   "execution_count": 156,
   "id": "571bc0c8",
   "metadata": {},
   "outputs": [],
   "source": [
    "## Write your response here "
   ]
  },
  {
   "cell_type": "markdown",
   "id": "9958ab56",
   "metadata": {},
   "source": [
    "**Q1b:** Initiate two truncated normal random variables, **T1** and **T2**, with the limits being 0 and K=10 and underlying normal distribution for **T1** has mean $\\mu=2$ and standard deviation  $\\sigma = 1$ and for **T2** has the same mean but a higher standard $\\sigma = 4$. Now draw 100000 (= $10^5$) values of each and compute its mean and variance. (0.5 pt)\n",
    "\n",
    "(i) Is variance of the truncated normal distributions, higher or lower than variance of the underlying normal distribution? Why do you think that is the case? (0.5 pt)\n",
    "\n",
    "(ii) Both the distributions have the same mean for the underlying normal distribution, then why is the mean of the truncated distributions different? (0.5 pt)\n",
    "\n",
    "NOTE: Remember the variance of a distribution is the square of its standard deviation. "
   ]
  },
  {
   "cell_type": "code",
   "execution_count": null,
   "id": "5356880c",
   "metadata": {
    "scrolled": true
   },
   "outputs": [],
   "source": [
    "## Write your response here "
   ]
  },
  {
   "cell_type": "markdown",
   "id": "8feb5754",
   "metadata": {},
   "source": [
    "Write the answer for (i) and (ii) here \n"
   ]
  },
  {
   "cell_type": "markdown",
   "id": "d65b25ef",
   "metadata": {},
   "source": [
    "**Q2:** We will now compute the densities of the seeds produced. We will consider three different scenarios to do this and try to estimate what the consequences would be. "
   ]
  },
  {
   "cell_type": "markdown",
   "id": "36385e2e",
   "metadata": {},
   "source": [
    "SCENARIO 1: Tree specific resources and no tree specific herbivores. \n",
    "\n",
    "In this scenario each tree produces on average $r=1$ seed. There are no tree specific herbivores, so the survival of these seeds only depends on competition with other seeds of the same species in the region. Therefore, we get that the density of seeds of species 1 is distributed according to a truncated normal with the mean of the underlying normal distribution $r*T1*(1 - \\displaystyle \\frac{r*T1}{K})$ and variance $2$ and the limits being 0 and 10. Similarly, the seed density of species 2 is truncated normal but with mean $r*T2*(1 - \\displaystyle \\frac{r*T2}{K})$."
   ]
  },
  {
   "cell_type": "markdown",
   "id": "f0a8530f",
   "metadata": {},
   "source": [
    "SCENARIO 2: Common resources and tree specific herbivores. \n",
    "In this scenario, the two species share common resources so they compete with the seeds of the other species as well as there own. Further, in addition to surviving competition, the seeds also need to survive the herbivores. The herbivores are proportional to the density of the tree species they prey on. Therefore, we get that the density of seeds of species 1 is distributed according to a truncated normal with the mean of the underlying normal distribution $(r-p*T1)*T1*(1 - \\displaystyle \\frac{r*(T1+T2)}{K})$ and variance $2$ and the limits being 0 and 10. Species 2 is distributed similarly but with the mean of the underlying normal distribution being $(r-p*T2)*T2*(1 - \\displaystyle \\frac{r*(T1+T2)}{K})$"
   ]
  },
  {
   "cell_type": "markdown",
   "id": "6811e029",
   "metadata": {},
   "source": [
    "**Q2a** In scenario 2, which term of the mean represents competition with the seeds of the opposite species and why do you think so? What does $p$ represent biologically? (1 pt)"
   ]
  },
  {
   "cell_type": "markdown",
   "id": "156711cb",
   "metadata": {},
   "source": [
    "**Ans 2a**\n",
    "\n",
    "$r*T1*(1- \\frac{r*(T1+T2)}{K})$ represent the competition between the two species since it has $r^2*T1*T2$ term. $p$ represemts the number of predators per tree of its prey species. "
   ]
  },
  {
   "cell_type": "markdown",
   "id": "b5150e16",
   "metadata": {},
   "source": [
    "**Q2b** For each of the scenarios, sample 1000 pairs of values for T1 an T2. For each pair of T1 and T2, sample 100 values of the corresponding seed distributions. Collect these values in two lists (one for each species). Therefore, you will have 1000x100 = 10000 sample values for each of the seed distributions. In the same plot,  plot a histogram witn 100 bins for the two seed densitites for each scenario (So you should have 2 plots, each with 2 histograms). [2 pts]\n",
    "\n",
    "HINT : One way to do it is create a loop over `range(1000)`. In each iteration sample one value of T1 and T2. Use that to initiate the seed distributions S1 and S2 and sample 100 values of each and store them in separate list. \n",
    "\n",
    "NOTE: Parameter Values- r = 1, K = 20, p = 0.2. Limits of the truncated seed distributions a = 0, b = 10.\n",
    "\n",
    "NOTE: Use alpha = 0.5 to control the transparency of the species two histograms in the same plot so you can compare the distributions."
   ]
  },
  {
   "cell_type": "code",
   "execution_count": 157,
   "id": "d2bf38ea",
   "metadata": {},
   "outputs": [],
   "source": [
    "r = 1 #Average number of seeds a tree produces. \n",
    "K = 20 #Carrying Capacity - The maximum density the patch of forest can support. \n",
    "p = 0.1 \n",
    "\n",
    "#Scenario 1 \n",
    "##Write the code for scenario 1 below this\n",
    "    \n",
    "    \n",
    "    \n",
    "    \n",
    "#Scenario 2\n",
    "##Write the code for scenario 2 below this\n",
    "\n",
    "\n",
    "\n"
   ]
  },
  {
   "cell_type": "markdown",
   "id": "9b006e51",
   "metadata": {},
   "source": [
    "**Q2c** In which of the two scenarios, are the seed distibutions of the two species similar and in which scenario are they different? Explain the biological reason for the (1) similarity of seed distributions in one scenario and (2) difference of seed distributions in the other scenario [1 pt]"
   ]
  },
  {
   "cell_type": "markdown",
   "id": "1c53af83",
   "metadata": {},
   "source": [
    "**Ans2c** \n"
   ]
  },
  {
   "cell_type": "markdown",
   "id": "65ba6ed4",
   "metadata": {},
   "source": [
    "**Q3** One student manage to go and collect data to compute the density of Tree species 1. Unfortunately, they lose their laptop and don't have access to their data. However, before the loss, the student managed to catch a glimpse of the raw data and can say for sure the denisty of tree species 1, i.e. T1, is atleast 1.50 . \n",
    "\n",
    "**Q3a** Repeat, Q2 for **Scenario 1**, i.e. draw 100 pairs values T1 and T2 but only run the rest of the code if T1 < 1.5. Plot the histograms (with bins=100) for the seed distributions of the two species in the same plot. The distributions you obtained are called conditional distributions. Specifically, they are distributions conditioned on T1 < 1.5 [1.5 pts]"
   ]
  },
  {
   "cell_type": "code",
   "execution_count": null,
   "id": "01582480",
   "metadata": {},
   "outputs": [],
   "source": []
  },
  {
   "cell_type": "markdown",
   "id": "d4b3bbc9",
   "metadata": {},
   "source": [
    "**Q3b** Compare the conditional seed distributions obtained in Q3a to the unconditional seed distributions of Senario 1 in Q2b. Specifically, which species' is different between the unconditional and conditional cases and which species' distribution is indentical in the two figures. Based on this answer the following two questions \n",
    "\n",
    "(i) Are S1 and T1 independent random variables? Why? [1 pt]\n",
    "\n",
    "(ii) Are S2 and T1 independent random variables? Why? [1 pt]"
   ]
  },
  {
   "cell_type": "markdown",
   "id": "b934252d",
   "metadata": {},
   "source": [
    "**Ans3b**\n"
   ]
  }
 ],
 "metadata": {
  "kernelspec": {
   "display_name": "Python 3 (ipykernel)",
   "language": "python",
   "name": "python3"
  },
  "language_info": {
   "codemirror_mode": {
    "name": "ipython",
    "version": 3
   },
   "file_extension": ".py",
   "mimetype": "text/x-python",
   "name": "python",
   "nbconvert_exporter": "python",
   "pygments_lexer": "ipython3",
   "version": "3.11.1"
  }
 },
 "nbformat": 4,
 "nbformat_minor": 5
}
