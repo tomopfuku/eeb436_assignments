{
 "cells": [
  {
   "cell_type": "markdown",
   "id": "31200823",
   "metadata": {},
   "source": [
    "# Assignment 6 - Wright Fisher Model, Neutral Evolution and Coalescent\n",
    "\n",
    "## EEB 463\n"
   ]
  },
  {
   "cell_type": "markdown",
   "id": "35fcf13b",
   "metadata": {},
   "source": [
    "We will explore some properties of the Neutral Wright Fisher Model, Coalescent times and start venturing into conepts of inference. "
   ]
  },
  {
   "cell_type": "code",
   "execution_count": 166,
   "id": "9fbb513f",
   "metadata": {},
   "outputs": [],
   "source": [
    "import matplotlib.pyplot as plt \n",
    "import random \n",
    "import numpy as np"
   ]
  },
  {
   "cell_type": "markdown",
   "id": "006ba8cd",
   "metadata": {},
   "source": [
    "# Neutral Wright-Fisher : Fixation probabilities, Times to Fixation and Monomorphism "
   ]
  },
  {
   "cell_type": "markdown",
   "id": "f554f37c",
   "metadata": {},
   "source": [
    "**Q1a.** Define a function `wright_fisher` that models the evolution of a trait that can only take two values, say $A$ and $a$. This function takes as input two parameters, the intial frequency of allele $A$ and the population size. The function simulates the evolution of the trait until the population becomes monomorphic i.e. $A$ is either fixed or lost. It returns the final frequency of allele $A$ and the number of generations it took to reach monomorphism. (1 pt)\n",
    "\n",
    "HINT: Inside the function, there should be a while loop that runs until fixation or loss.\n",
    "\n",
    "HINT: Given frequency of $A$ in the current generation is $p$, then the **number** of individuals in the next generation with $A$ is distributed as $Bin(N,p)$ which can then be used to compute the frequency in the next generation."
   ]
  },
  {
   "cell_type": "code",
   "execution_count": 1,
   "id": "9b912c07",
   "metadata": {
    "scrolled": true
   },
   "outputs": [
    {
     "data": {
      "text/plain": [
       "\"\\ndef wright_fisher(initial_freq=0.5, N = 100, generations = 'until mono'):\\n\""
      ]
     },
     "execution_count": 1,
     "metadata": {},
     "output_type": "execute_result"
    }
   ],
   "source": [
    "#WRITE CODE BELOW \n",
    "\n",
    "'''\n",
    "def wright_fisher(initial_freq=0.5, N = 100, generations = 'until mono'):\n",
    "'''\n",
    "\n"
   ]
  },
  {
   "cell_type": "markdown",
   "id": "c81e4c9a",
   "metadata": {},
   "source": [
    "**Q1b** Use the function above to *plot* the following . \n",
    "\n",
    "(i) Fixation probability of $A$ as function of initial frequency of $A$ (0.5 pt) <br> \n",
    "(ii) Average time to reach Monomorphism of the population as function of initial frequency of $A$. (0.5 pt) <br> \n",
    "(iii) Average time to fixation of $A$ as a function of population size. (0.5 pt)\n",
    "\n",
    "<u>For (i) and (ii)</u>\n",
    "\n",
    "Use population size N = 100. \n",
    "The initial frequencies should take values between 0 and 1 (both included) in steps of 0.1. You can use `np.arange()`. For each initial frequency, run the `wright_fisher` defined in the previous question 1000 times.   \n",
    "\n",
    "The Fixation probability can then be computed as the proportion of times $A$ fixes of the 1000 times. \n",
    "To compute the average time to monomorphism record the time outputed by `wright_fisher` for each of the 1000 times. \n",
    "\n",
    "<u>For (iii)</u>\n",
    "    \n",
    "Use initial frequency of 0.7.\n",
    "The population sizes should take values between 100 and 600 (both included) in steps of 100. The rest is same as for (i) and (ii) \n",
    "To compute the average time to fixation of $A$ record the time outputed by `wright_fisher` but only if $A$ fixes \n",
    "\n",
    "\n",
    "NOTE: This might take 2-5 minutes to run so be patient. "
   ]
  },
  {
   "cell_type": "code",
   "execution_count": 2,
   "id": "1b44d1f4",
   "metadata": {},
   "outputs": [],
   "source": [
    "#WRITE CODE HERE"
   ]
  },
  {
   "cell_type": "markdown",
   "id": "5626f00d",
   "metadata": {},
   "source": [
    "**Q1c** Based on the above plots answer the following. \n",
    "\n",
    "(i) What is the fixation probability that an allele present with frequency $p$ in a finite population? Give a biological explanation why? (0.5 pt)\n",
    "\n",
    "(ii) What is the initial frequency of $A$ for which the average time to monomorphism is the highest? Explain why that is the case? (0.5 pt)\n",
    "\n",
    "(iii) Does time to fixation increase or decrease with populations size? Based on the plot what would the time to fixation be for an infinite population and why? (0.5 pt)"
   ]
  },
  {
   "cell_type": "markdown",
   "id": "cb4ab8c5",
   "metadata": {},
   "source": [
    "**Ans 1c** WRITE YOUR RESPONSE HERE"
   ]
  },
  {
   "cell_type": "markdown",
   "id": "e4ad4ec9",
   "metadata": {},
   "source": [
    "**Q2a** In class, you learnt that the mean time to coalescence of two sample haploid genomes in a diploid population of size N is 2N. We will try to get similar estimates for a samples of three haploid genomes. \n",
    "\n",
    "With three samples there will be two coalescence events. The first any two of the three samples and then another between the common ancestor of the two and the third. \n",
    "\n",
    "We will now compute the mean time to the first coalescence event in a population of size N = 10000. To do this, initialize a variable T = 0. The run a while loop and in each run we will pick three random integers between 0 and 2N-1 (with replacement) which are the ancestors of the three samples in that generation. If two of the three integers are the same then break the while loop else increment T by 1. This will give one value of T. \n",
    "\n",
    "To find the mean time to first coalescence repeat the above 2000 times and store the values of T in a list. Print the mean of the T values. (1 pt)"
   ]
  },
  {
   "cell_type": "code",
   "execution_count": 3,
   "id": "5bb63f0a",
   "metadata": {
    "scrolled": true
   },
   "outputs": [],
   "source": [
    "#WRITE CODE HERE "
   ]
  },
  {
   "cell_type": "markdown",
   "id": "b547a2e5",
   "metadata": {},
   "source": [
    "**Q2b** For two samples, the mean time to coalescence is 2N as shown in class. In the case of three samples above, is the mean time to the first coalescence event higher or lower than 2N, (Looking at 2N divided by the mean time might help)? Why do you think that is, given the first coalescence event happens between 2 samples only? (1 pt)"
   ]
  },
  {
   "cell_type": "markdown",
   "id": "f1aa48c6",
   "metadata": {
    "scrolled": true
   },
   "source": [
    "**Ans 2b** WRITE RESPONSE HERE"
   ]
  },
  {
   "cell_type": "markdown",
   "id": "206c8c0b",
   "metadata": {},
   "source": [
    "**Q3a** We will now try to run some simulations to help us understand how we can utilize the coalescence models to make inferences. To do this, we will go back to the case with two samples. Lets say they diverged T generations back. **Take the tenth value of the list in Q2a as the value of T (DO NOT EXAMINE THE VALUE)**. We will simulate the forward in time mutation process to see how the two lineages will accumulate difference in their genomes. We take the simples mutation process, called the infinite sites model. This assumes that every mutation is unique and occurs at unique position. Therefore, the total number of differences in the genomes of the present-day samples is just the total number of mutations that occur in either of the lineages. \n",
    "\n",
    "The genome of these samples has $n=100$ sites (These are hypothetical numbers). The mutation rate is $\\mu = 10^{-4}$ per site per generation, i.e. every generation, for each site there is $10^{-4}$ probability that it will mutate. Find the total number of differences accumulated over T generations. (1 pt)\n",
    "\n",
    "HINT: Each lineage accumulates mutations according to an independent $Bin(n,\\mu)$"
   ]
  },
  {
   "cell_type": "code",
   "execution_count": 6,
   "id": "08af6e9b",
   "metadata": {},
   "outputs": [],
   "source": [
    "#WRITE CODE HERE"
   ]
  },
  {
   "cell_type": "markdown",
   "id": "40135003",
   "metadata": {},
   "source": [
    "**Q3b** Now, in real life, all you would have is the present-day genomes of the two samples. So you can sequence genomes and find the differences between the two, which is output of Q3a. Further, you know the $n$ and $\\mu$ from experiments. You can use this to *infer* T, the time since divergence from the common ancestor. \n",
    "\n",
    "For two samples, the expected number of total differences is given by $2 \\mu n T$. Therefore, T can computed as $\\frac{\\text{Total number of differences}}{2 \\mu n}$. Compute T using this formula. Is this close to the value of T you started with (You can print the original value now)? Is it exactly the same? Why or Why not?  (1 pt)"
   ]
  },
  {
   "cell_type": "code",
   "execution_count": 4,
   "id": "7990a559",
   "metadata": {
    "scrolled": true
   },
   "outputs": [],
   "source": [
    "#You can use to compute the inferred value and the true value"
   ]
  },
  {
   "cell_type": "markdown",
   "id": "fa6fcec5",
   "metadata": {},
   "source": [
    "**Ans 3b** WRITE RESPONSE HERE"
   ]
  },
  {
   "cell_type": "markdown",
   "id": "6f19f0be",
   "metadata": {},
   "source": [
    "**Q3c** Finally, we will repeat Q3a but with a more realistic mutation model, called the Jukes Cantor model. You will learn more about it in later classes. For this question, we will actually construct a genome. Each site can take a value of $A$, $T$, $G$ or $C$. You have been provided with the ancestral genome as well as. A copy of this genome will be passed on to the two lineages, with each lineage accumulating different mutations over the generation. If a mutation occurs at a site, it is equally likely to mutate into any of the other three values. You have also been provided with mutation function `JC_mut` that takes the current value and outputs the value it mutates into. \n",
    "\n",
    "Run a loop for T iterations where T has the same value as in Q3a. In each iteration find the number of mutations that occurs in each lineage drawn from independent $Bin(n, \\mu)$. Keep track of the total number of mutation that occur in both lineages. For each mutation find the position in the genome by drawing a random integer betwen 0 and Nsites-1. Replace the value at the position by the value it mutates into which can be found using `JC_mut`. \n",
    "\n",
    "Most of the code is provided. You only need to fill in the for loop.\n",
    "\n",
    "At the end of simulation, find the total number of differences in the two genomes. Compare this to the total number of mutations that occured over the course of the simulation. Which is greater and why? How would this affect inference if we incorrectly assumed the infinite sites model. Will we overestimate or underestimate the time to common ancestor? (2 pts)"
   ]
  },
  {
   "cell_type": "code",
   "execution_count": 5,
   "id": "1e0bc7f2",
   "metadata": {},
   "outputs": [
    {
     "ename": "NameError",
     "evalue": "name 'T_list' is not defined",
     "output_type": "error",
     "traceback": [
      "\u001b[0;31m---------------------------------------------------------------------------\u001b[0m",
      "\u001b[0;31mNameError\u001b[0m                                 Traceback (most recent call last)",
      "Input \u001b[0;32mIn [5]\u001b[0m, in \u001b[0;36m<cell line: 6>\u001b[0;34m()\u001b[0m\n\u001b[1;32m      3\u001b[0m     bp\u001b[38;5;241m.\u001b[39mremove(current_nucleo)\n\u001b[1;32m      4\u001b[0m     \u001b[38;5;28;01mreturn\u001b[39;00m bp[\u001b[38;5;28mint\u001b[39m(random\u001b[38;5;241m.\u001b[39mrandom()\u001b[38;5;241m*\u001b[39m\u001b[38;5;241m3\u001b[39m)]\n\u001b[0;32m----> 6\u001b[0m T \u001b[38;5;241m=\u001b[39m \u001b[43mT_list\u001b[49m[\u001b[38;5;241m10\u001b[39m] \n\u001b[1;32m      7\u001b[0m mu \u001b[38;5;241m=\u001b[39m \u001b[38;5;241m10\u001b[39m\u001b[38;5;241m*\u001b[39m\u001b[38;5;241m*\u001b[39m(\u001b[38;5;241m-\u001b[39m\u001b[38;5;241m4\u001b[39m)\n\u001b[1;32m      8\u001b[0m Nsites \u001b[38;5;241m=\u001b[39m \u001b[38;5;241m10\u001b[39m\u001b[38;5;241m*\u001b[39m\u001b[38;5;241m*\u001b[39m\u001b[38;5;241m2\u001b[39m \n",
      "\u001b[0;31mNameError\u001b[0m: name 'T_list' is not defined"
     ]
    }
   ],
   "source": [
    "def JC_mut(current_nucleo):\n",
    "    bp = ['A','T','G','C']\n",
    "    bp.remove(current_nucleo)\n",
    "    return bp[int(random.random()*3)]\n",
    "\n",
    "T = T_list[10] #T_list is the list from Q2a. If you used a different variable change it here.\n",
    "mu = 10**(-4)\n",
    "Nsites = 10**2 \n",
    "\n",
    "bp = ['A','T','G','C']\n",
    "genome = [bp[int(random.random()*4)] for i in range(Nsites)] \n",
    "genome1 = genome.copy()\n",
    "genome2 = genome.copy()\n",
    "\n",
    "nmut1 = 0 #Number of mutations in lineage 1\n",
    "nmut2 = 0 #Number of mutations in lineage 2\n",
    "for gen in range(T):\n",
    "    '''\n",
    "    #FILL in this loop\n",
    "    '''\n",
    "differences = sum([1 if genome1[pos]!=genome2[pos] else 0 for pos in range(Nsites)]) #differences in the two genomes\n",
    "total_mutations = nmut1 + nmut2 #total number of mutations on both the lineages\n",
    "print(difference, total_mutations)"
   ]
  },
  {
   "cell_type": "markdown",
   "id": "d1a565bd",
   "metadata": {},
   "source": [
    "The total number of mutations is higher because some of the mutations occured at the same loci which won't contribute to additional differences in the genome."
   ]
  }
 ],
 "metadata": {
  "kernelspec": {
   "display_name": "Python 3 (ipykernel)",
   "language": "python",
   "name": "python3"
  },
  "language_info": {
   "codemirror_mode": {
    "name": "ipython",
    "version": 3
   },
   "file_extension": ".py",
   "mimetype": "text/x-python",
   "name": "python",
   "nbconvert_exporter": "python",
   "pygments_lexer": "ipython3",
   "version": "3.9.12"
  }
 },
 "nbformat": 4,
 "nbformat_minor": 5
}
